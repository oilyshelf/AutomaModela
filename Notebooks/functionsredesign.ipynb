{
 "cells": [
  {
   "cell_type": "code",
   "execution_count": 17,
   "metadata": {},
   "outputs": [],
   "source": [
    "import re\n",
    "from enum import Enum, auto\n",
    "from typing import List\n",
    "from functools import reduce"
   ]
  },
  {
   "cell_type": "code",
   "execution_count": 18,
   "metadata": {},
   "outputs": [
    {
     "name": "stdout",
     "output_type": "stream",
     "text": [
      "\"this is a test,\"\n",
      "2.2\n",
      "True\n",
      "None\n",
      "2\n",
      "\"lass mal schauen\",\"was geht,,,,)\"\n",
      "2.12\n",
      "None\n"
     ]
    }
   ],
   "source": [
    "\n",
    "test_str = [\"\"\"\"this is a test,\", 2.2, True, None, 2\"\"\",\"\"\"\"lass mal schauen\",\"was geht,,,,)\",2.12, None\"\"\"]\n",
    "\n",
    "def value_split(str_list):\n",
    "    r = r'(\".+\"|\\d+\\.\\d+|True|False|None|\\d+)'\n",
    "    return list(re.findall(r,str_list))\n",
    "\n",
    "for test in test_str:\n",
    "    for i in value_split(test):print(i)\n"
   ]
  },
  {
   "cell_type": "code",
   "execution_count": 19,
   "metadata": {},
   "outputs": [
    {
     "data": {
      "text/plain": [
       "'testing 2'"
      ]
     },
     "execution_count": 19,
     "metadata": {},
     "output_type": "execute_result"
    }
   ],
   "source": [
    "test = \"testing {price}\"\n",
    "l = {\"price\":2, \"no\":2}\n",
    "test.format(**l)"
   ]
  },
  {
   "cell_type": "code",
   "execution_count": 20,
   "metadata": {},
   "outputs": [],
   "source": [
    "class DataTypes(Enum):\n",
    "    INT = auto()\n",
    "    FLOAT = auto()\n",
    "    STRING = auto()\n",
    "    BOOL = auto()\n",
    "    NONE = auto()\n",
    "    EXPR = auto()\n",
    "    ATTR = auto()\n",
    "    ATTRMAP = auto()\n",
    "\n",
    "\n",
    "class FunctionBuilder():\n",
    "\n",
    "    def __init__(self):\n",
    "        self.regex_lookUp = {\n",
    "            DataTypes.INT: \"-?\\d+\",\n",
    "            DataTypes.FLOAT:\"-?\\d+\\.\\d+\",\n",
    "            DataTypes.STRING:'\"[^\"]+\"',\n",
    "            DataTypes.BOOL: \"True|False\",\n",
    "            DataTypes.NONE: \"None\",\n",
    "            DataTypes.EXPR: \".+\",\n",
    "            DataTypes.ATTR: \"`[^`]+`\",\n",
    "            DataTypes.ATTRMAP: \"\"\"(?:`[^`]+`)=(?:-?\\d+\\.\\d+|-?\\d+|\"[^\"]+\"|True|False|None)\"\"\"\n",
    "        }\n",
    "\n",
    "    def build_function(self, needed:dict,*args):\n",
    "        \"\"\"builds an regex for an function call defined by a dict\n",
    "\n",
    "        Args:\n",
    "            needed (dict): {\n",
    "                text:str --> a text with or without marked spots to place regex for parameter finding e.g. \"this is a function {parameter}\" -- required\n",
    "                types:dict a dictonary that maps paramter(defined in text) to the enum DataTypes which the parameter should have -- required\n",
    "                repeating: dict maps parameters to boolean if there are of an variable lenght -- optional\n",
    "                implicite: Bool a boolean parameter can be representet as text itself instead of a parameter --optional\n",
    "            }\n",
    "            *args if you want to extend the call with optional parameters --> same as needed\n",
    "\n",
    "        Returns:\n",
    "            _type_: _description_\n",
    "        \"\"\"\n",
    "        whole_function, group_mapper, counter = self.unpacker(needed, 1)\n",
    "        for arg in args:\n",
    "            apendy = self.unpacker(arg, counter, True)\n",
    "            whole_function += apendy[0]\n",
    "            group_mapper.extend(apendy[1])\n",
    "            counter = apendy[2]\n",
    "\n",
    "        \n",
    "        return (whole_function, group_mapper)\n",
    "\n",
    "    def unpacker(self, function_part:dict, counter:int, optional:bool = False) -> tuple:\n",
    "        func_regex = function_part.get(\"text\")\n",
    "\n",
    "        if function_part.get(\"implicite\", False):\n",
    "            if not optional:\n",
    "                return (func_regex, [\n",
    "                    {\n",
    "                \"regex\":None,\n",
    "                \"group\":None,\n",
    "                \"repeating\":False,\n",
    "                \"needed\": not optional,\n",
    "                \"implicite\":True\n",
    "            }\n",
    "                ], counter)\n",
    "            \n",
    "            return (f\"({func_regex})?\", [{\n",
    "                \"regex\":None,\n",
    "                \"group\":counter,\n",
    "                \"repeating\":False,\n",
    "                \"needed\": not optional,\n",
    "                \"implicite\":True\n",
    "            }],counter+1)\n",
    "        types = function_part.get(\"types\")\n",
    "        repeating = function_part.get(\"types\", dict())\n",
    "        parameter_reg = {key:self.combination_builder(el, repeating.get(key, False)) for key, el in types.items()}\n",
    "        if optional:\n",
    "            func_regex = f\"(?: {func_regex})?\"\n",
    "        func_regex = func_regex.format(**parameter_reg)\n",
    "        group_mapper = list()\n",
    "        for key, reg in parameter_reg.items():\n",
    "            group_mapper.append({\n",
    "                \"regex\":reg,\n",
    "                \"group\":counter,\n",
    "                \"repeating\":repeating.get(key,False),\n",
    "                \"needed\": not optional,\n",
    "                \"implicite\":False\n",
    "            })\n",
    "            counter += 1\n",
    "        \n",
    "        return (func_regex, group_mapper, counter)\n",
    "\n",
    "\n",
    "\n",
    "    def combination_builder(self, types:tuple, repeating:bool = False)->str:\n",
    "        comb = \"|\".join(self.regex_lookUp.get(t) for t in types)\n",
    "        if repeating:\n",
    "            return f\"((?:(?:{comb})(?:, )?)+)\"\n",
    "        return f\"({comb})\"\n"
   ]
  },
  {
   "cell_type": "code",
   "execution_count": 21,
   "metadata": {},
   "outputs": [
    {
     "name": "stdout",
     "output_type": "stream",
     "text": [
      "load data from excel file ((?:(?:\"[^\"]+\")(?:, )?)+)(?: from the sheet ((?:(?:\"[^\"]+\"|-?\\d+)(?:, )?)+))?(?: and set the index to the column ((?:(?:\"[^\"]+\")(?:, )?)+))?\n",
      "\n",
      "[{'regex': '((?:(?:\"[^\"]+\")(?:, )?)+)', 'group': 1, 'repeating': (<DataTypes.STRING: 3>,), 'needed': True, 'implicite': False}, {'regex': '((?:(?:\"[^\"]+\"|-?\\\\d+)(?:, )?)+)', 'group': 2, 'repeating': (<DataTypes.STRING: 3>, <DataTypes.INT: 1>), 'needed': False, 'implicite': False}, {'regex': '((?:(?:\"[^\"]+\")(?:, )?)+)', 'group': 3, 'repeating': (<DataTypes.STRING: 3>,), 'needed': False, 'implicite': False}]\n",
      "result\n",
      "<re.Match object; span=(0, 99), match='load data from excel file \"test.xlsx\" from the sh>\n",
      "group tests\n",
      "\"test.xlsx\"\n",
      "\"test\"\n",
      "\"testo\"\n"
     ]
    }
   ],
   "source": [
    "f = FunctionBuilder()\n",
    "testinput = [\n",
    "    {\"text\":\"load data from excel file {file_name}\", \"types\":{\"file_name\":(DataTypes.STRING,)}},\n",
    "    {\"text\":\"from the sheet {sheet_name}\", \"types\":{\"sheet_name\":(DataTypes.STRING,DataTypes.INT)}},\n",
    "    {\"text\":\"and set the index to the column {index}\", \"types\":{\"index\":(DataTypes.STRING,)}},\n",
    "]\n",
    "test_str = 'load data from excel file \"test.xlsx\" from the sheet \"test\" and set the index to the column \"testo\"'   \n",
    "\n",
    "reg, groups = f.build_function(*testinput)\n",
    "print(reg)\n",
    "print()\n",
    "print(groups)\n",
    "print(\"result\")\n",
    "m = re.fullmatch(reg, test_str)\n",
    "print(m)\n",
    "print(\"group tests\")\n",
    "for par in groups:\n",
    "    print(m.group(par.get(\"group\")))"
   ]
  },
  {
   "cell_type": "code",
   "execution_count": 22,
   "metadata": {},
   "outputs": [
    {
     "name": "stdout",
     "output_type": "stream",
     "text": [
      "('change row from ((?:(?:-?\\\\d+\\\\.\\\\d+|-?\\\\d+|\"[^\"]+\"|True|False|None)(?:, )?)+) to ((?:(?:-?\\\\d+\\\\.\\\\d+|-?\\\\d+|\"[^\"]+\"|True|False|None)(?:, )?)+)', [{'regex': '((?:(?:-?\\\\d+\\\\.\\\\d+|-?\\\\d+|\"[^\"]+\"|True|False|None)(?:, )?)+)', 'group': 1, 'repeating': (<DataTypes.FLOAT: 2>, <DataTypes.INT: 1>, <DataTypes.STRING: 3>, <DataTypes.BOOL: 4>, <DataTypes.NONE: 5>), 'needed': True, 'implicite': False}, {'regex': '((?:(?:-?\\\\d+\\\\.\\\\d+|-?\\\\d+|\"[^\"]+\"|True|False|None)(?:, )?)+)', 'group': 2, 'repeating': (<DataTypes.FLOAT: 2>, <DataTypes.INT: 1>, <DataTypes.STRING: 3>, <DataTypes.BOOL: 4>, <DataTypes.NONE: 5>), 'needed': True, 'implicite': False}])\n"
     ]
    }
   ],
   "source": [
    "print(f.build_function(*[\n",
    "    {\"text\":\"change row from {from} to {to}\", \n",
    "    \"types\":{\"from\":(DataTypes.FLOAT, DataTypes.INT, DataTypes.STRING, DataTypes.BOOL, DataTypes.NONE), \"to\":(DataTypes.FLOAT, DataTypes.INT, DataTypes.STRING, DataTypes.BOOL, DataTypes.NONE)}, \n",
    "    \"repeating\":{\"from\":True, \"to\":True}\n",
    "    },\n",
    "    ]))"
   ]
  },
  {
   "cell_type": "code",
   "execution_count": 23,
   "metadata": {},
   "outputs": [
    {
     "name": "stdout",
     "output_type": "stream",
     "text": [
      "('change row from ((?:(?:(?:`[^`]+`)=(?:-?\\\\d+\\\\.\\\\d+|-?\\\\d+|\"[^\"]+\"|True|False|None))(?:, )?)+) to ((?:(?:(?:`[^`]+`)=(?:-?\\\\d+\\\\.\\\\d+|-?\\\\d+|\"[^\"]+\"|True|False|None))(?:, )?)+)', [{'regex': '((?:(?:(?:`[^`]+`)=(?:-?\\\\d+\\\\.\\\\d+|-?\\\\d+|\"[^\"]+\"|True|False|None))(?:, )?)+)', 'group': 1, 'repeating': (<DataTypes.ATTRMAP: 8>,), 'needed': True, 'implicite': False}, {'regex': '((?:(?:(?:`[^`]+`)=(?:-?\\\\d+\\\\.\\\\d+|-?\\\\d+|\"[^\"]+\"|True|False|None))(?:, )?)+)', 'group': 2, 'repeating': (<DataTypes.ATTRMAP: 8>,), 'needed': True, 'implicite': False}])\n"
     ]
    }
   ],
   "source": [
    "attrTest = {\n",
    "    \"text\":\"change row from {from} to {to}\",\n",
    "    \"types\":{\n",
    "        \"from\":(DataTypes.ATTRMAP,),\n",
    "        \"to\":(DataTypes.ATTRMAP,)},\n",
    "    \"repeating\":{\"from\":True, \"to\":True}}\n",
    "print(f.build_function(attrTest))"
   ]
  },
  {
   "cell_type": "code",
   "execution_count": 24,
   "metadata": {},
   "outputs": [
    {
     "name": "stdout",
     "output_type": "stream",
     "text": [
      "a ((?:(?:(?:`[^`]+`)=(?:-?\\d+\\.\\d+|-?\\d+|\"[^\"]+\"|True|False|None))(?:, )?)+)\n"
     ]
    }
   ],
   "source": [
    "attr_controll = {\n",
    "    \"text\":\"a {map}\",\n",
    "    \"types\":{\"map\":(DataTypes.ATTRMAP,)},\n",
    "    \"repeating\":{}\n",
    "}\n",
    "print(f.build_function(attr_controll)[0])"
   ]
  },
  {
   "cell_type": "code",
   "execution_count": 25,
   "metadata": {},
   "outputs": [
    {
     "name": "stdout",
     "output_type": "stream",
     "text": [
      "('delete data(but keep cols)?', [{'regex': None, 'group': 1, 'repeating': False, 'needed': False, 'implicite': True}])\n"
     ]
    }
   ],
   "source": [
    "print(f.build_function(\n",
    "    {\n",
    "        \"text\": \"delete data\",\n",
    "        \"types\":{},\n",
    "        \"repeating\":{},\n",
    "        \"implicite\":True\n",
    "    },\n",
    "    {\n",
    "        \"text\": \"but keep cols\",\n",
    "        \"types\":{},\n",
    "        \"repeating\":{},\n",
    "        \"implicite\":True\n",
    "    },\n",
    "))"
   ]
  },
  {
   "cell_type": "code",
   "execution_count": null,
   "metadata": {},
   "outputs": [],
   "source": []
  }
 ],
 "metadata": {
  "interpreter": {
   "hash": "f7a3a8ab5c229a5fe0b48dd28d0f9cf3b05548e3124458cae845ffec60fd2e06"
  },
  "kernelspec": {
   "display_name": "Python 3.10.3 ('tripleX')",
   "language": "python",
   "name": "python3"
  },
  "language_info": {
   "codemirror_mode": {
    "name": "ipython",
    "version": 3
   },
   "file_extension": ".py",
   "mimetype": "text/x-python",
   "name": "python",
   "nbconvert_exporter": "python",
   "pygments_lexer": "ipython3",
   "version": "3.10.3"
  },
  "orig_nbformat": 4
 },
 "nbformat": 4,
 "nbformat_minor": 2
}
