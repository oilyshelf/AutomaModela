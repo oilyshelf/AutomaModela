{
 "cells": [
  {
   "cell_type": "code",
   "execution_count": 64,
   "metadata": {},
   "outputs": [],
   "source": [
    "import pandas as pd\n",
    "import numpy as np \n",
    "import math\n",
    "\n",
    "# special\n",
    "ALL = slice(None)\n",
    "\n",
    "# number\n",
    "\n",
    "\n",
    "def root_of(a: int | float, base: int = 2) -> int | float:\n",
    "    return a**(1 / base)\n",
    "\n",
    "# float\n",
    "\n",
    "\n",
    "def round_to(a: float, places: int = 2) -> float:\n",
    "    return round(a, places)\n",
    "\n",
    "\n",
    "def floor(a: float) -> int:\n",
    "    return math.floor(a)\n",
    "\n",
    "\n",
    "def ceil(a: float) -> int:\n",
    "    return math.ceil(a)\n",
    "\n",
    "# string \n",
    "\n",
    "\n",
    "def concat(a: str, b: str) -> str:\n",
    "    match (type(a), type(b)):\n",
    "        case (pd.Series, str):\n",
    "            return a.astype(str) + b\n",
    "        case (str, pd.Series):\n",
    "            return a + b.astype(str)\n",
    "        case _:\n",
    "            return a + b\n",
    "\n",
    "\n",
    "def substr(a: str, start: int, end: int) -> str:\n",
    "    if type(a) == pd.Series:\n",
    "        return a.str.slice(start=start, stop=end)\n",
    "    return a[start:end]\n",
    "\n",
    "\n",
    "def strip(a: str, special_char: str | None = None) -> str:\n",
    "    if type(a) == pd.Series:\n",
    "        return a.str.strip(special_char)\n",
    "    return a.strip(special_char)\n",
    "\n",
    "\n",
    "def split(a: str, on_what: str, keep: int = 0) -> str:\n",
    "    if type(a) == pd.Series:\n",
    "        a =  a.str.split(on_what, expand = True)\n",
    "        print(a)\n",
    "        return a[keep]\n",
    "    return a.split(on_what)[keep]\n",
    "\n",
    "\n",
    "def replace(a: str, where: int, _with: str) -> str:\n",
    "    if type(a) == pd.Series:\n",
    "        a = a.str\n",
    "    return a[:where] + _with + a[where + 1:]\n",
    "\n",
    "\n",
    "def replace_all(a: str, what: str, _whith: str) -> str:\n",
    "    if type(a) == pd.Series:\n",
    "        a = a.str\n",
    "    return a.replace(what, _whith)\n",
    "\n",
    "# data conversion\n",
    "\n",
    "\n",
    "def to_string(a: int | float) -> str:\n",
    "    if type(a) == pd.Series:\n",
    "        return a.astype(str)\n",
    "    return str(a)\n",
    "\n",
    "\n",
    "def to_int(a: str | float) -> int:\n",
    "    if type(a) == pd.Series:\n",
    "        return a.astype(int)\n",
    "    return int(a)\n",
    "\n",
    "\n",
    "def to_float(a: str | int) -> float:\n",
    "    if type(a) == pd.Series:\n",
    "        return a.astype(float)\n",
    "    float(a)\n",
    "\n",
    "# data reduction \n",
    "\n",
    "\n",
    "def get_sum(a) -> int | float:\n",
    "    return np.sum(a)\n",
    "\n",
    "\n",
    "def get_prod(a) -> int | float:\n",
    "    return np.prod(a)\n",
    "\n",
    "\n",
    "def get_min(a) -> int | float:\n",
    "    return np.min(a)\n",
    "\n",
    "\n",
    "def get_max(a) -> int | float:\n",
    "    return np.max(a)\n",
    "\n",
    "\n",
    "def get_mean(a) -> int | float:\n",
    "    return np.mean(a)\n",
    "\n",
    "# data evaluation \n",
    "\n",
    "\n",
    "def is_empty(a) -> bool:\n",
    "    return pd.isnull(a)\n",
    "\n",
    "\n",
    "def contains(a: str, c_str: str, at: int | None = None) -> bool:\n",
    "    match (type(a), at):\n",
    "        case (pd.Series, None):\n",
    "            return a.str.contains(c_str)\n",
    "        case (pd.Series, int):  # noqa: F841\n",
    "            return a.str[at] == c_str\n",
    "        case (str, int):  # noqa: F841\n",
    "            return a[at] == c_str\n",
    "        case _:\n",
    "            return c_str in a\n",
    "\n",
    "\n",
    "def starts_with(a: str, c_str: str) -> str:\n",
    "    if type(a) == pd.Series:\n",
    "        a = a.str\n",
    "    return a.startswith(c_str)"
   ]
  },
  {
   "cell_type": "code",
   "execution_count": 65,
   "metadata": {},
   "outputs": [
    {
     "name": "stdout",
     "output_type": "stream",
     "text": [
      "21\n"
     ]
    }
   ],
   "source": [
    "expr_locals = {\n",
    "    \"root_of\":root_of,\n",
    "    \"round_to\":round_to,\n",
    "    \"floor\":floor,\n",
    "    \"ceil\":ceil,\n",
    "    \"concat\":concat,\n",
    "    \"substr\":substr,\n",
    "    \"strip\":strip,\n",
    "    'split':split,\n",
    "    \"replace\":replace,\n",
    "    \"replace_all\":replace_all,\n",
    "    \"to_string\":to_string,\n",
    "    \"to_float\":to_float,\n",
    "    \"to_int\":to_int,\n",
    "    \"get_sum\":get_sum,\n",
    "    \"get_prod\":get_prod,\n",
    "    \"get_min\":get_min,\n",
    "    \"get_max\":get_max,\n",
    "    \"get_mean\":get_mean,\n",
    "    \"is_empty\":is_empty,\n",
    "    \"contains\":contains,\n",
    "    \"starts_with\":starts_with,\n",
    "}\n",
    "print(len(expr_locals.keys()))"
   ]
  },
  {
   "cell_type": "markdown",
   "metadata": {},
   "source": [
    "### testing"
   ]
  },
  {
   "cell_type": "code",
   "execution_count": 93,
   "metadata": {},
   "outputs": [
    {
     "data": {
      "text/html": [
       "<div>\n",
       "<style scoped>\n",
       "    .dataframe tbody tr th:only-of-type {\n",
       "        vertical-align: middle;\n",
       "    }\n",
       "\n",
       "    .dataframe tbody tr th {\n",
       "        vertical-align: top;\n",
       "    }\n",
       "\n",
       "    .dataframe thead th {\n",
       "        text-align: right;\n",
       "    }\n",
       "</style>\n",
       "<table border=\"1\" class=\"dataframe\">\n",
       "  <thead>\n",
       "    <tr style=\"text-align: right;\">\n",
       "      <th></th>\n",
       "      <th>INT</th>\n",
       "      <th>FLOAT</th>\n",
       "      <th>STRING</th>\n",
       "      <th>NONE</th>\n",
       "      <th>BOOL</th>\n",
       "    </tr>\n",
       "  </thead>\n",
       "  <tbody>\n",
       "    <tr>\n",
       "      <th>0</th>\n",
       "      <td>1</td>\n",
       "      <td>1.1</td>\n",
       "      <td>text</td>\n",
       "      <td>None</td>\n",
       "      <td>True</td>\n",
       "    </tr>\n",
       "    <tr>\n",
       "      <th>1</th>\n",
       "      <td>2</td>\n",
       "      <td>2.1</td>\n",
       "      <td>text mit Spaces</td>\n",
       "      <td>None</td>\n",
       "      <td>False</td>\n",
       "    </tr>\n",
       "    <tr>\n",
       "      <th>2</th>\n",
       "      <td>3</td>\n",
       "      <td>3.3</td>\n",
       "      <td>sumbole,%§/(</td>\n",
       "      <td>None</td>\n",
       "      <td>True</td>\n",
       "    </tr>\n",
       "  </tbody>\n",
       "</table>\n",
       "</div>"
      ],
      "text/plain": [
       "   INT  FLOAT           STRING  NONE   BOOL\n",
       "0    1    1.1             text  None   True\n",
       "1    2    2.1  text mit Spaces  None  False\n",
       "2    3    3.3     sumbole,%§/(  None   True"
      ]
     },
     "execution_count": 93,
     "metadata": {},
     "output_type": "execute_result"
    }
   ],
   "source": [
    "df = pd.read_excel(\"alldtypes.xlsx\")\n",
    "df = df.replace({np.nan:None})\n",
    "df"
   ]
  },
  {
   "cell_type": "code",
   "execution_count": 94,
   "metadata": {},
   "outputs": [
    {
     "data": {
      "text/html": [
       "<div>\n",
       "<style scoped>\n",
       "    .dataframe tbody tr th:only-of-type {\n",
       "        vertical-align: middle;\n",
       "    }\n",
       "\n",
       "    .dataframe tbody tr th {\n",
       "        vertical-align: top;\n",
       "    }\n",
       "\n",
       "    .dataframe thead th {\n",
       "        text-align: right;\n",
       "    }\n",
       "</style>\n",
       "<table border=\"1\" class=\"dataframe\">\n",
       "  <thead>\n",
       "    <tr style=\"text-align: right;\">\n",
       "      <th></th>\n",
       "      <th>INT</th>\n",
       "      <th>FLOAT</th>\n",
       "      <th>STRING</th>\n",
       "      <th>NONE</th>\n",
       "      <th>BOOL</th>\n",
       "      <th>BACKTICK_QUOTED_STRING_Purchasing_Cost_Center</th>\n",
       "    </tr>\n",
       "  </thead>\n",
       "  <tbody>\n",
       "    <tr>\n",
       "      <th>0</th>\n",
       "      <td>1</td>\n",
       "      <td>1.1</td>\n",
       "      <td>text</td>\n",
       "      <td>None</td>\n",
       "      <td>True</td>\n",
       "      <td></td>\n",
       "    </tr>\n",
       "    <tr>\n",
       "      <th>1</th>\n",
       "      <td>2</td>\n",
       "      <td>2.1</td>\n",
       "      <td>text mit Spaces</td>\n",
       "      <td>None</td>\n",
       "      <td>False</td>\n",
       "      <td></td>\n",
       "    </tr>\n",
       "    <tr>\n",
       "      <th>2</th>\n",
       "      <td>3</td>\n",
       "      <td>3.3</td>\n",
       "      <td>sumbole,%§/(</td>\n",
       "      <td>None</td>\n",
       "      <td>True</td>\n",
       "      <td></td>\n",
       "    </tr>\n",
       "  </tbody>\n",
       "</table>\n",
       "</div>"
      ],
      "text/plain": [
       "   INT  FLOAT           STRING  NONE   BOOL  \\\n",
       "0    1    1.1             text  None   True   \n",
       "1    2    2.1  text mit Spaces  None  False   \n",
       "2    3    3.3     sumbole,%§/(  None   True   \n",
       "\n",
       "  BACKTICK_QUOTED_STRING_Purchasing_Cost_Center  \n",
       "0                                                \n",
       "1                                                \n",
       "2                                                "
      ]
     },
     "execution_count": 94,
     "metadata": {},
     "output_type": "execute_result"
    }
   ],
   "source": [
    "df = df.eval('`Purchasing Cost Center` = \" \"', engine= \"python\")\n",
    "df"
   ]
  },
  {
   "cell_type": "code",
   "execution_count": 96,
   "metadata": {},
   "outputs": [
    {
     "data": {
      "text/html": [
       "<div>\n",
       "<style scoped>\n",
       "    .dataframe tbody tr th:only-of-type {\n",
       "        vertical-align: middle;\n",
       "    }\n",
       "\n",
       "    .dataframe tbody tr th {\n",
       "        vertical-align: top;\n",
       "    }\n",
       "\n",
       "    .dataframe thead th {\n",
       "        text-align: right;\n",
       "    }\n",
       "</style>\n",
       "<table border=\"1\" class=\"dataframe\">\n",
       "  <thead>\n",
       "    <tr style=\"text-align: right;\">\n",
       "      <th></th>\n",
       "      <th>INT</th>\n",
       "      <th>FLOAT</th>\n",
       "      <th>STRING</th>\n",
       "      <th>NONE</th>\n",
       "      <th>BOOL</th>\n",
       "      <th>BACKTICK_QUOTED_STRING_Purchasing_Cost_Center</th>\n",
       "      <th>test</th>\n",
       "    </tr>\n",
       "  </thead>\n",
       "  <tbody>\n",
       "    <tr>\n",
       "      <th>0</th>\n",
       "      <td>1</td>\n",
       "      <td>1.1</td>\n",
       "      <td>text</td>\n",
       "      <td>None</td>\n",
       "      <td>True</td>\n",
       "      <td></td>\n",
       "      <td>True</td>\n",
       "    </tr>\n",
       "    <tr>\n",
       "      <th>1</th>\n",
       "      <td>2</td>\n",
       "      <td>2.1</td>\n",
       "      <td>text mit Spaces</td>\n",
       "      <td>None</td>\n",
       "      <td>False</td>\n",
       "      <td></td>\n",
       "      <td>True</td>\n",
       "    </tr>\n",
       "    <tr>\n",
       "      <th>2</th>\n",
       "      <td>3</td>\n",
       "      <td>3.3</td>\n",
       "      <td>sumbole,%§/(</td>\n",
       "      <td>None</td>\n",
       "      <td>True</td>\n",
       "      <td></td>\n",
       "      <td>True</td>\n",
       "    </tr>\n",
       "  </tbody>\n",
       "</table>\n",
       "</div>"
      ],
      "text/plain": [
       "   INT  FLOAT           STRING  NONE   BOOL  \\\n",
       "0    1    1.1             text  None   True   \n",
       "1    2    2.1  text mit Spaces  None  False   \n",
       "2    3    3.3     sumbole,%§/(  None   True   \n",
       "\n",
       "  BACKTICK_QUOTED_STRING_Purchasing_Cost_Center  test  \n",
       "0                                                True  \n",
       "1                                                True  \n",
       "2                                                True  "
      ]
     },
     "execution_count": 96,
     "metadata": {},
     "output_type": "execute_result"
    }
   ],
   "source": [
    "df.eval('`test` = `Purchasing Cost Center` == \" \" ')"
   ]
  },
  {
   "cell_type": "code",
   "execution_count": 60,
   "metadata": {},
   "outputs": [
    {
     "data": {
      "text/html": [
       "<div>\n",
       "<style scoped>\n",
       "    .dataframe tbody tr th:only-of-type {\n",
       "        vertical-align: middle;\n",
       "    }\n",
       "\n",
       "    .dataframe tbody tr th {\n",
       "        vertical-align: top;\n",
       "    }\n",
       "\n",
       "    .dataframe thead th {\n",
       "        text-align: right;\n",
       "    }\n",
       "</style>\n",
       "<table border=\"1\" class=\"dataframe\">\n",
       "  <thead>\n",
       "    <tr style=\"text-align: right;\">\n",
       "      <th></th>\n",
       "      <th>Belegnummer</th>\n",
       "      <th>Belegdatum</th>\n",
       "      <th>Lieferant</th>\n",
       "      <th>Profitcenter</th>\n",
       "    </tr>\n",
       "  </thead>\n",
       "  <tbody>\n",
       "    <tr>\n",
       "      <th>0</th>\n",
       "      <td>1</td>\n",
       "      <td>05.Jan</td>\n",
       "      <td>A</td>\n",
       "      <td>P1</td>\n",
       "    </tr>\n",
       "    <tr>\n",
       "      <th>1</th>\n",
       "      <td>2</td>\n",
       "      <td>06.Jan</td>\n",
       "      <td>B</td>\n",
       "      <td>P3</td>\n",
       "    </tr>\n",
       "    <tr>\n",
       "      <th>2</th>\n",
       "      <td>3</td>\n",
       "      <td>07.Jan</td>\n",
       "      <td>A</td>\n",
       "      <td>P1</td>\n",
       "    </tr>\n",
       "    <tr>\n",
       "      <th>3</th>\n",
       "      <td>5</td>\n",
       "      <td>09.Jan</td>\n",
       "      <td>B</td>\n",
       "      <td>P2</td>\n",
       "    </tr>\n",
       "    <tr>\n",
       "      <th>4</th>\n",
       "      <td>6</td>\n",
       "      <td>10.Jan</td>\n",
       "      <td>A</td>\n",
       "      <td>P3</td>\n",
       "    </tr>\n",
       "    <tr>\n",
       "      <th>5</th>\n",
       "      <td>7</td>\n",
       "      <td>11.Jan</td>\n",
       "      <td>A</td>\n",
       "      <td>P2</td>\n",
       "    </tr>\n",
       "  </tbody>\n",
       "</table>\n",
       "</div>"
      ],
      "text/plain": [
       "   Belegnummer Belegdatum Lieferant Profitcenter\n",
       "0            1     05.Jan         A           P1\n",
       "1            2     06.Jan         B           P3\n",
       "2            3     07.Jan         A           P1\n",
       "3            5     09.Jan         B           P2\n",
       "4            6     10.Jan         A           P3\n",
       "5            7     11.Jan         A           P2"
      ]
     },
     "execution_count": 60,
     "metadata": {},
     "output_type": "execute_result"
    }
   ],
   "source": [
    "df_1 = pd.read_excel(\"beispiel.xlsx\", sheet_name=\"Tabelle1\")\n",
    "df_1"
   ]
  },
  {
   "cell_type": "code",
   "execution_count": 61,
   "metadata": {},
   "outputs": [
    {
     "data": {
      "text/plain": [
       "0    True\n",
       "1    True\n",
       "2    True\n",
       "3    True\n",
       "4    True\n",
       "5    True\n",
       "Name: Profitcenter, dtype: bool"
      ]
     },
     "execution_count": 61,
     "metadata": {},
     "output_type": "execute_result"
    }
   ],
   "source": [
    "df_1.eval('@contains(`Profitcenter`, \"P\", 0)' , engine = \"python\")"
   ]
  },
  {
   "cell_type": "code",
   "execution_count": 63,
   "metadata": {},
   "outputs": [
    {
     "ename": "AttributeError",
     "evalue": "'Series' object has no attribute 'query'",
     "output_type": "error",
     "traceback": [
      "\u001b[1;31m---------------------------------------------------------------------------\u001b[0m",
      "\u001b[1;31mAttributeError\u001b[0m                            Traceback (most recent call last)",
      "\u001b[1;32mc:\\Users\\whyno\\Entwickler\\Python\\AutomaModela\\Notebooks\\exprfunc.ipynb Cell 9'\u001b[0m in \u001b[0;36m<cell line: 2>\u001b[1;34m()\u001b[0m\n\u001b[0;32m      <a href='vscode-notebook-cell:/c%3A/Users/whyno/Entwickler/Python/AutomaModela/Notebooks/exprfunc.ipynb#ch0000007?line=0'>1</a>\u001b[0m ALL \u001b[39m=\u001b[39m \u001b[39mslice\u001b[39m(\u001b[39mNone\u001b[39;00m)\n\u001b[1;32m----> <a href='vscode-notebook-cell:/c%3A/Users/whyno/Entwickler/Python/AutomaModela/Notebooks/exprfunc.ipynb#ch0000007?line=1'>2</a>\u001b[0m df\u001b[39m.\u001b[39;49mquery(\u001b[39m\"\u001b[39m\u001b[39m@ALL\u001b[39m\u001b[39m\"\u001b[39m, engine\u001b[39m=\u001b[39m\u001b[39m\"\u001b[39m\u001b[39mpython\u001b[39m\u001b[39m\"\u001b[39m)\n",
      "File \u001b[1;32mc:\\Users\\whyno\\Anaconda3\\envs\\x\\lib\\site-packages\\pandas\\core\\generic.py:5583\u001b[0m, in \u001b[0;36mNDFrame.__getattr__\u001b[1;34m(self, name)\u001b[0m\n\u001b[0;32m   <a href='file:///c%3A/Users/whyno/Anaconda3/envs/x/lib/site-packages/pandas/core/generic.py?line=5575'>5576</a>\u001b[0m \u001b[39mif\u001b[39;00m (\n\u001b[0;32m   <a href='file:///c%3A/Users/whyno/Anaconda3/envs/x/lib/site-packages/pandas/core/generic.py?line=5576'>5577</a>\u001b[0m     name \u001b[39mnot\u001b[39;00m \u001b[39min\u001b[39;00m \u001b[39mself\u001b[39m\u001b[39m.\u001b[39m_internal_names_set\n\u001b[0;32m   <a href='file:///c%3A/Users/whyno/Anaconda3/envs/x/lib/site-packages/pandas/core/generic.py?line=5577'>5578</a>\u001b[0m     \u001b[39mand\u001b[39;00m name \u001b[39mnot\u001b[39;00m \u001b[39min\u001b[39;00m \u001b[39mself\u001b[39m\u001b[39m.\u001b[39m_metadata\n\u001b[0;32m   <a href='file:///c%3A/Users/whyno/Anaconda3/envs/x/lib/site-packages/pandas/core/generic.py?line=5578'>5579</a>\u001b[0m     \u001b[39mand\u001b[39;00m name \u001b[39mnot\u001b[39;00m \u001b[39min\u001b[39;00m \u001b[39mself\u001b[39m\u001b[39m.\u001b[39m_accessors\n\u001b[0;32m   <a href='file:///c%3A/Users/whyno/Anaconda3/envs/x/lib/site-packages/pandas/core/generic.py?line=5579'>5580</a>\u001b[0m     \u001b[39mand\u001b[39;00m \u001b[39mself\u001b[39m\u001b[39m.\u001b[39m_info_axis\u001b[39m.\u001b[39m_can_hold_identifiers_and_holds_name(name)\n\u001b[0;32m   <a href='file:///c%3A/Users/whyno/Anaconda3/envs/x/lib/site-packages/pandas/core/generic.py?line=5580'>5581</a>\u001b[0m ):\n\u001b[0;32m   <a href='file:///c%3A/Users/whyno/Anaconda3/envs/x/lib/site-packages/pandas/core/generic.py?line=5581'>5582</a>\u001b[0m     \u001b[39mreturn\u001b[39;00m \u001b[39mself\u001b[39m[name]\n\u001b[1;32m-> <a href='file:///c%3A/Users/whyno/Anaconda3/envs/x/lib/site-packages/pandas/core/generic.py?line=5582'>5583</a>\u001b[0m \u001b[39mreturn\u001b[39;00m \u001b[39mobject\u001b[39;49m\u001b[39m.\u001b[39;49m\u001b[39m__getattribute__\u001b[39;49m(\u001b[39mself\u001b[39;49m, name)\n",
      "\u001b[1;31mAttributeError\u001b[0m: 'Series' object has no attribute 'query'"
     ]
    }
   ],
   "source": [
    "ALL = slice(None)\n",
    "df.query(\"@ALL\", engine=\"python\")"
   ]
  },
  {
   "cell_type": "code",
   "execution_count": null,
   "metadata": {},
   "outputs": [
    {
     "name": "stdout",
     "output_type": "stream",
     "text": [
      "\\subsubsection{load data from excel file \\{file\\_name:string\\}( from the sheet \\{sheet\\_name:string|int = 0\\})( and set the index to the column \\{index:attribute|None = None\\})}\n",
      "\\subsubsection{save data to excel file \\{file\\_name:string\\}( in to the sheet \\{sheet\\_name:string = \\dqSheet1\\dq\\})( and also keep the index)}\n",
      "\\subsubsection{select the rows where \\{query:expr\\}}\n",
      "\\subsubsection{select the columns named [\\{column:attribute\\}]*}\n",
      "\\subsubsection{rename column from \\{from\\_col:attribute\\} to \\{to\\_col:attribute\\}}\n",
      "\\subsubsection{delete the data( but keep the columns)}\n",
      "\\subsubsection{add row with the values [\\{value:dtype\\}]*}\n",
      "\\subsubsection{add row with the values [\\{column:attribute\\}=\\{value:dtype\\}]*}\n",
      "\\subsubsection{delete row with the values [\\{value:dtype\\}]*}\n",
      "\\subsubsection{delete row with the values [\\{column:attribute\\}=\\{value:dtype\\}]*}\n",
      "\\subsubsection{change row from [\\{org\\_value:dtype\\}]* to [\\{new\\_value:dtype\\}]*}\n",
      "\\subsubsection{change row from [\\{column:attribute\\}=\\{org\\_value:dtype\\}]* to [\\{column:attribute\\}=\\{new\\_value:dtype\\}]*}\n",
      "\\subsubsection{add column \\{column:attribute\\} with the value \\{value:expr\\}}\n",
      "\\subsubsection{change column \\{column:attribute\\} to the value \\{value:expr\\}}\n",
      "\\subsubsection{set column \\{column:attribute\\} to the value \\{value:expr\\}}\n",
      "\\subsubsection{delete column \\{column:attribute\\}}\n",
      "\\subsubsection{do nothing }\n",
      "\\subsubsection{}\n"
     ]
    }
   ],
   "source": [
    "texte = \"\"\"load data from excel file {file_name:string}( from the sheet {sheet_name:string|int = 0})( and set the index to the column {index:attribute|None = None})\n",
    "save data to excel file {file_name:string}( in to the sheet {sheet_name:string = \"Sheet1\"})( and also keep the index)\n",
    "select the rows where {query:expr}\n",
    "select the columns named [{column:attribute}]*\n",
    "rename column from {from_col:attribute} to {to_col:attribute}\n",
    "delete the data( but keep the columns)\n",
    "add row with the values [{value:dtype}]*\n",
    "add row with the values [{column:attribute}={value:dtype}]*\n",
    "delete row with the values [{value:dtype}]*\n",
    "delete row with the values [{column:attribute}={value:dtype}]*\n",
    "change row from [{org_value:dtype}]* to [{new_value:dtype}]*\n",
    "change row from [{column:attribute}={org_value:dtype}]* to [{column:attribute}={new_value:dtype}]*\n",
    "add column {column:attribute} with the value {value:expr}\n",
    "change column {column:attribute} to the value {value:expr}\n",
    "set column {column:attribute} to the value {value:expr}\n",
    "delete column {column:attribute}\n",
    "do nothing \n",
    "\"\"\"\n",
    "\n",
    "texte = texte.replace(\"{\", \"\\{\")\n",
    "texte = texte.replace(\"}\",\"\\}\")\n",
    "texte = texte.replace(\"_\", \"\\_\")\n",
    "texte = texte.replace('\"', \"\\dq\")\n",
    "texte = \"\\n\".join([f\"\\subsubsection{{{t}}}\" for t in texte.split(\"\\n\")])\n",
    "print(texte)"
   ]
  },
  {
   "cell_type": "code",
   "execution_count": null,
   "metadata": {},
   "outputs": [
    {
     "data": {
      "text/plain": [
       "'392356'"
      ]
     },
     "execution_count": 28,
     "metadata": {},
     "output_type": "execute_result"
    }
   ],
   "source": [
    "test = \"T392356-E-NW-VTV introduction in VF-DE\"\n",
    "substr(test,1,7)"
   ]
  },
  {
   "cell_type": "code",
   "execution_count": null,
   "metadata": {},
   "outputs": [
    {
     "data": {
      "text/plain": [
       "'DE04M02240'"
      ]
     },
     "execution_count": 29,
     "metadata": {},
     "output_type": "execute_result"
    }
   ],
   "source": [
    "test = \"DE04M02240 b940650d-97fe-4a80-b01f-b2f3f1716ed4\"\n",
    "split(test, \" \")"
   ]
  }
 ],
 "metadata": {
  "interpreter": {
   "hash": "c5bcb43b39f65e0a07e6a5015ea5224a15f34641f7704821fea9034614d822f3"
  },
  "kernelspec": {
   "display_name": "Python 3.10.4 ('x')",
   "language": "python",
   "name": "python3"
  },
  "language_info": {
   "codemirror_mode": {
    "name": "ipython",
    "version": 3
   },
   "file_extension": ".py",
   "mimetype": "text/x-python",
   "name": "python",
   "nbconvert_exporter": "python",
   "pygments_lexer": "ipython3",
   "version": "3.10.4"
  },
  "orig_nbformat": 4
 },
 "nbformat": 4,
 "nbformat_minor": 2
}
