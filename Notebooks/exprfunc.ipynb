{
 "cells": [
  {
   "cell_type": "code",
   "execution_count": 29,
   "metadata": {},
   "outputs": [],
   "source": [
    "import pandas as pd\n",
    "import numpy as np \n",
    "import math"
   ]
  },
  {
   "cell_type": "code",
   "execution_count": 30,
   "metadata": {},
   "outputs": [],
   "source": [
    "# number\n",
    "def add(a:int|float, b:int|float) ->int|float:\n",
    "    return a+b\n",
    "def subtract(a:int|float, b:int|float) ->int|float:\n",
    "    return a-b\n",
    "def multiply(a:int|float, b:int|float) ->int|float:\n",
    "    return a*b\n",
    "def divide(a:int|float, b:int|float) ->float:\n",
    "    return a/b\n",
    "def power_of(a:int|float, of:int = 2)->int|float:\n",
    "    return a**of\n",
    "def root_of(a:int|float, base:int = 2)->int|float:\n",
    "    return a**(1/base)"
   ]
  },
  {
   "cell_type": "code",
   "execution_count": 31,
   "metadata": {},
   "outputs": [],
   "source": [
    "# int\n",
    "def int_div(a:int, b:int)->int:\n",
    "    return a//b\n",
    "\n",
    "def modulo(a:int, b:int)->int:\n",
    "    a%b"
   ]
  },
  {
   "cell_type": "code",
   "execution_count": 32,
   "metadata": {},
   "outputs": [],
   "source": [
    "#float\n",
    "def _round(a:float, places:int = 2) ->float:\n",
    "    return round(a,places)\n",
    "\n",
    "def floor(a:float)->int:\n",
    "    return math.floor(a)\n",
    "\n",
    "def ceil(a:float)->int:\n",
    "    return math.ceil(a)\n"
   ]
  },
  {
   "cell_type": "code",
   "execution_count": 33,
   "metadata": {},
   "outputs": [],
   "source": [
    "#string \n",
    "def concat(a:str, b:str)->str:\n",
    "    return a+b\n",
    "\n",
    "def substr(a:str, start:int, end:int)->str:\n",
    "    return a[start:end]\n",
    "\n",
    "def strip(a:str, special_char:str|None = None)->str:\n",
    "    return a.strip(special_char)\n",
    "\n",
    "def split(a:str, on_what:str, keep:int = 0)->str:\n",
    "    return a.split(on_what)[keep]\n",
    "\n",
    "def replace(a:str, where:int, _with:str)->str:\n",
    "    return a[:where]+_with+a[where+1:]\n",
    "\n",
    "def replace_all(a:str, what:str, _whith:str)->str:\n",
    "    return a.replace(what, _whith)\n"
   ]
  },
  {
   "cell_type": "code",
   "execution_count": 34,
   "metadata": {},
   "outputs": [],
   "source": [
    "#bool \n",
    "def _not(b:bool)->bool:\n",
    "    return not b\n",
    "\n",
    "def _and(a:bool, b:bool)->bool:\n",
    "    return a and b\n",
    "\n",
    "def _or(a:bool, b:bool)->bool:\n",
    "    return a or b\n",
    "\n",
    "def _xor(a:bool, b:bool)->bool:\n",
    "    return a^b"
   ]
  },
  {
   "cell_type": "code",
   "execution_count": 35,
   "metadata": {},
   "outputs": [],
   "source": [
    "#data conversion\n",
    "def toString(a:int|float)->str:\n",
    "    return str(a)\n",
    "\n",
    "def toInt(a:str|float)->int:\n",
    "    return int(a)\n",
    "\n",
    "def toFloat(a:str|int)->float:\n",
    "    float(a)"
   ]
  },
  {
   "cell_type": "code",
   "execution_count": 36,
   "metadata": {},
   "outputs": [],
   "source": [
    "# data reduction \n",
    "def _sum(a)->int|float:\n",
    "    return np.sum(a)\n",
    "\n",
    "def _prod(a)->int|float:\n",
    "    return np.prod(a)\n",
    "\n",
    "def _min(a)->int|float:\n",
    "    return np.min(a)\n",
    "\n",
    "def _max(a)->int|float:\n",
    "    return np.max(a)\n",
    "\n",
    "def _mean(a)->int|float:\n",
    "    return np.mean(a)"
   ]
  },
  {
   "cell_type": "code",
   "execution_count": 37,
   "metadata": {},
   "outputs": [],
   "source": [
    "# data evaluation \n",
    "def is_empty(a)->bool:\n",
    "    return pd.isnull(a)\n",
    "\n",
    "def contains(a:str, c_str:str, at:int|None = None)->bool:\n",
    "    if at is not None:\n",
    "        return a[at] == c_str\n",
    "    return c_str in a\n",
    "\n",
    "def starts_with(a:str, c_str:str)->str:\n",
    "    a.startswith(c_str)"
   ]
  },
  {
   "cell_type": "code",
   "execution_count": null,
   "metadata": {},
   "outputs": [],
   "source": [
    "expr_locals = {\n",
    "    \n",
    "}"
   ]
  },
  {
   "cell_type": "markdown",
   "metadata": {},
   "source": [
    "### testing"
   ]
  },
  {
   "cell_type": "code",
   "execution_count": 42,
   "metadata": {},
   "outputs": [
    {
     "data": {
      "text/html": [
       "<div>\n",
       "<style scoped>\n",
       "    .dataframe tbody tr th:only-of-type {\n",
       "        vertical-align: middle;\n",
       "    }\n",
       "\n",
       "    .dataframe tbody tr th {\n",
       "        vertical-align: top;\n",
       "    }\n",
       "\n",
       "    .dataframe thead th {\n",
       "        text-align: right;\n",
       "    }\n",
       "</style>\n",
       "<table border=\"1\" class=\"dataframe\">\n",
       "  <thead>\n",
       "    <tr style=\"text-align: right;\">\n",
       "      <th></th>\n",
       "      <th>INT</th>\n",
       "      <th>FLOAT</th>\n",
       "      <th>STRING</th>\n",
       "      <th>NONE</th>\n",
       "      <th>BOOL</th>\n",
       "    </tr>\n",
       "  </thead>\n",
       "  <tbody>\n",
       "    <tr>\n",
       "      <th>0</th>\n",
       "      <td>1</td>\n",
       "      <td>1.1</td>\n",
       "      <td>text</td>\n",
       "      <td>None</td>\n",
       "      <td>True</td>\n",
       "    </tr>\n",
       "    <tr>\n",
       "      <th>1</th>\n",
       "      <td>2</td>\n",
       "      <td>2.1</td>\n",
       "      <td>text mit Spaces</td>\n",
       "      <td>None</td>\n",
       "      <td>False</td>\n",
       "    </tr>\n",
       "    <tr>\n",
       "      <th>2</th>\n",
       "      <td>3</td>\n",
       "      <td>3.3</td>\n",
       "      <td>sumbole,%§/(</td>\n",
       "      <td>None</td>\n",
       "      <td>True</td>\n",
       "    </tr>\n",
       "  </tbody>\n",
       "</table>\n",
       "</div>"
      ],
      "text/plain": [
       "   INT  FLOAT           STRING  NONE   BOOL\n",
       "0    1    1.1             text  None   True\n",
       "1    2    2.1  text mit Spaces  None  False\n",
       "2    3    3.3     sumbole,%§/(  None   True"
      ]
     },
     "execution_count": 42,
     "metadata": {},
     "output_type": "execute_result"
    }
   ],
   "source": [
    "df = pd.read_excel(\"alldtypes.xlsx\")\n",
    "df = df.replace({np.nan:None})\n",
    "df"
   ]
  },
  {
   "cell_type": "code",
   "execution_count": 43,
   "metadata": {},
   "outputs": [
    {
     "data": {
      "text/plain": [
       "str"
      ]
     },
     "execution_count": 43,
     "metadata": {},
     "output_type": "execute_result"
    }
   ],
   "source": []
  },
  {
   "cell_type": "code",
   "execution_count": null,
   "metadata": {},
   "outputs": [],
   "source": []
  }
 ],
 "metadata": {
  "interpreter": {
   "hash": "c5bcb43b39f65e0a07e6a5015ea5224a15f34641f7704821fea9034614d822f3"
  },
  "kernelspec": {
   "display_name": "Python 3.10.4 ('x')",
   "language": "python",
   "name": "python3"
  },
  "language_info": {
   "codemirror_mode": {
    "name": "ipython",
    "version": 3
   },
   "file_extension": ".py",
   "mimetype": "text/x-python",
   "name": "python",
   "nbconvert_exporter": "python",
   "pygments_lexer": "ipython3",
   "version": "3.10.4"
  },
  "orig_nbformat": 4
 },
 "nbformat": 4,
 "nbformat_minor": 2
}
