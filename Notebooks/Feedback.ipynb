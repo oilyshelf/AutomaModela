{
 "cells": [
  {
   "cell_type": "code",
   "execution_count": 1,
   "metadata": {},
   "outputs": [
    {
     "data": {
      "text/plain": [
       "['Solarize_Light2',\n",
       " '_classic_test_patch',\n",
       " '_mpl-gallery',\n",
       " '_mpl-gallery-nogrid',\n",
       " 'bmh',\n",
       " 'classic',\n",
       " 'dark_background',\n",
       " 'fast',\n",
       " 'fivethirtyeight',\n",
       " 'ggplot',\n",
       " 'grayscale',\n",
       " 'seaborn',\n",
       " 'seaborn-bright',\n",
       " 'seaborn-colorblind',\n",
       " 'seaborn-dark',\n",
       " 'seaborn-dark-palette',\n",
       " 'seaborn-darkgrid',\n",
       " 'seaborn-deep',\n",
       " 'seaborn-muted',\n",
       " 'seaborn-notebook',\n",
       " 'seaborn-paper',\n",
       " 'seaborn-pastel',\n",
       " 'seaborn-poster',\n",
       " 'seaborn-talk',\n",
       " 'seaborn-ticks',\n",
       " 'seaborn-white',\n",
       " 'seaborn-whitegrid',\n",
       " 'tableau-colorblind10']"
      ]
     },
     "execution_count": 1,
     "metadata": {},
     "output_type": "execute_result"
    }
   ],
   "source": [
    "import pandas as pd\n",
    "import numpy as np\n",
    "import matplotlib.pyplot as plt\n",
    "from textwrap import wrap\n",
    "import seaborn as sns\n",
    "plt.style.available"
   ]
  },
  {
   "cell_type": "code",
   "execution_count": 2,
   "metadata": {},
   "outputs": [],
   "source": [
    "def set_size(width, fraction=1, subplots=(1, 1)):\n",
    "    \"\"\"Set figure dimensions to avoid scaling in LaTeX.\n",
    "\n",
    "    Parameters\n",
    "    ----------\n",
    "    width: float or string\n",
    "            Document width in points, or string of predined document type\n",
    "    fraction: float, optional\n",
    "            Fraction of the width which you wish the figure to occupy\n",
    "    subplots: array-like, optional\n",
    "            The number of rows and columns of subplots.\n",
    "    Returns\n",
    "    -------\n",
    "    fig_dim: tuple\n",
    "            Dimensions of figure in inches\n",
    "    \"\"\"\n",
    "    if width == 'thesis':\n",
    "        width_pt = 426.79135\n",
    "    elif width == 'beamer':\n",
    "        width_pt = 307.28987\n",
    "    else:\n",
    "        width_pt = width\n",
    "\n",
    "    # Width of figure (in pts)\n",
    "    fig_width_pt = width_pt * fraction\n",
    "    # Convert from pt to inches\n",
    "    inches_per_pt = 1 / 72.27\n",
    "\n",
    "    # Golden ratio to set aesthetic figure height\n",
    "    # https://disq.us/p/2940ij3\n",
    "    golden_ratio = (5**.5 - 1) / 2\n",
    "\n",
    "    # Figure width in inches\n",
    "    fig_width_in = fig_width_pt * inches_per_pt\n",
    "    # Figure height in inches\n",
    "    fig_height_in = fig_width_in * golden_ratio * (subplots[0] / subplots[1])\n",
    "\n",
    "    return (fig_width_in, fig_height_in)"
   ]
  },
  {
   "cell_type": "code",
   "execution_count": 3,
   "metadata": {},
   "outputs": [
    {
     "data": {
      "image/png": "[encoded data removed]",
      "text/plain": [
       "<Figure size 402.52x248.771 with 1 Axes>"
      ]
     },
     "metadata": {
      "needs_background": "light"
     },
     "output_type": "display_data"
    }
   ],
   "source": [
    "twidth = 404.02908\n",
    "# Using seaborn's style\n",
    "# plt.style.use('seaborn')\n",
    "sns.set()\n",
    "# With LaTex fonts\n",
    "tex_fonts = {\n",
    "    # Use LaTeX to write all text\n",
    "    \"text.usetex\": True,\n",
    "    \"font.family\": \"serif\",\n",
    "    # Use 10pt font in plots, to match 10pt font in document\n",
    "    \"axes.labelsize\": 10,\n",
    "    \"font.size\": 10,\n",
    "    # Make the legend/label fonts a little smaller\n",
    "    \"legend.fontsize\": 8,\n",
    "    \"xtick.labelsize\": 8,\n",
    "    \"ytick.labelsize\": 8\n",
    "}\n",
    "\n",
    "plt.rcParams.update(tex_fonts)\n",
    "\n",
    "x = np.linspace(0, 2 * np.pi, 100)\n",
    "\n",
    "fig, ax = plt.subplots(1,1, figsize = set_size(twidth))\n",
    "\n",
    "# Plot\n",
    "# ax.plot(x, np.sin(x))\n",
    "# ax.set_xlim(0, 2 * np.pi)\n",
    "# ax.set_xlabel(r'$\\theta$')\n",
    "# ax.set_ylabel(r'$\\sin (\\theta)$')"
   ]
  },
  {
   "cell_type": "code",
   "execution_count": 4,
   "metadata": {},
   "outputs": [],
   "source": [
    "fig.savefig('example_1.pdf', format='pdf', bbox_inches='tight')"
   ]
  },
  {
   "cell_type": "code",
   "execution_count": 5,
   "metadata": {},
   "outputs": [
    {
     "data": {
      "text/html": [
       "<div>\n",
       "<style scoped>\n",
       "    .dataframe tbody tr th:only-of-type {\n",
       "        vertical-align: middle;\n",
       "    }\n",
       "\n",
       "    .dataframe tbody tr th {\n",
       "        vertical-align: top;\n",
       "    }\n",
       "\n",
       "    .dataframe thead th {\n",
       "        text-align: right;\n",
       "    }\n",
       "</style>\n",
       "<table border=\"1\" class=\"dataframe\">\n",
       "  <thead>\n",
       "    <tr style=\"text-align: right;\">\n",
       "      <th></th>\n",
       "      <th>Zeitstempel</th>\n",
       "      <th>Ich habe Expertise im Finance Bereich</th>\n",
       "      <th>Ich habe Expertise im Computer Science Bereich</th>\n",
       "      <th>Ich kenne mich mit BPMN aus</th>\n",
       "      <th>Ich kenne mich mit Excel aus</th>\n",
       "      <th>Ich kenne mich mit Datenbanken und SQL aus</th>\n",
       "      <th>Ich kenne mich mit der Relationalen Algebra aus</th>\n",
       "      <th>Die Vorstellung war verständlich</th>\n",
       "      <th>Die Konzepte wurden vernünftig erklärt</th>\n",
       "      <th>Das gewählte Beispiel wurde vernünftig beschrieben</th>\n",
       "      <th>...</th>\n",
       "      <th>Anmerkungen.14</th>\n",
       "      <th>AutomaModela hatte alle Werkzeuge dich ich brauchte um das Beispiel zu lösen</th>\n",
       "      <th>Anmerkungen.15</th>\n",
       "      <th>Das Modellieren des Beispiels verlief reibungslos</th>\n",
       "      <th>Hätte ich die Wahl das Beispiel mit einer anderen (Transformations-)Anwendung (Excel, SQL, etc.) zu lösen, würde ich AutomaModela verwenden</th>\n",
       "      <th>Anmerkungen.16</th>\n",
       "      <th>Müsste ich die Transformation einer dritten Person erklären müssen, würde ich AutomaModela einer anderen (Transformations-)Anwendung bevorzugen</th>\n",
       "      <th>Anmerkungen.17</th>\n",
       "      <th>Müsste ich eine  andere Transformation automatisieren müssen, würde ich dafür AutomaModela benutzen</th>\n",
       "      <th>Anmerkungen.18</th>\n",
       "    </tr>\n",
       "  </thead>\n",
       "  <tbody>\n",
       "    <tr>\n",
       "      <th>0</th>\n",
       "      <td>2022-06-03 10:57:46.749</td>\n",
       "      <td>3.0</td>\n",
       "      <td>4.0</td>\n",
       "      <td>3.0</td>\n",
       "      <td>2.0</td>\n",
       "      <td>2.0</td>\n",
       "      <td>3.0</td>\n",
       "      <td>5.0</td>\n",
       "      <td>5.0</td>\n",
       "      <td>5.0</td>\n",
       "      <td>...</td>\n",
       "      <td>Allein hätte ich vermutlich mehr ausprobiert, ...</td>\n",
       "      <td>Jein</td>\n",
       "      <td>für das MVP ja, für uns als Intermediäre reich...</td>\n",
       "      <td>Joa, ab und zu musste ich nachschauen wie die ...</td>\n",
       "      <td>ja</td>\n",
       "      <td>NaN</td>\n",
       "      <td>Ja</td>\n",
       "      <td>NaN</td>\n",
       "      <td>Ich würde es einen Versuch geben</td>\n",
       "      <td>Müssen wir für die Use Cases mal testen und da...</td>\n",
       "    </tr>\n",
       "    <tr>\n",
       "      <th>1</th>\n",
       "      <td>2022-06-03 13:36:25.665</td>\n",
       "      <td>4.0</td>\n",
       "      <td>0.0</td>\n",
       "      <td>4.0</td>\n",
       "      <td>5.0</td>\n",
       "      <td>1.0</td>\n",
       "      <td>0.0</td>\n",
       "      <td>4.0</td>\n",
       "      <td>4.0</td>\n",
       "      <td>4.0</td>\n",
       "      <td>...</td>\n",
       "      <td>NaN</td>\n",
       "      <td>Ja, perspektivisch könnte man AutomaModela noc...</td>\n",
       "      <td>NaN</td>\n",
       "      <td>Joa, ab und zu musste ich nachschauen wie die ...</td>\n",
       "      <td>Nein</td>\n",
       "      <td>NaN</td>\n",
       "      <td>Nein</td>\n",
       "      <td>NaN</td>\n",
       "      <td>Nein</td>\n",
       "      <td>Mögliche Erweiterung von AutomaModela für noch...</td>\n",
       "    </tr>\n",
       "    <tr>\n",
       "      <th>2</th>\n",
       "      <td>2022-06-03 20:09:52.077</td>\n",
       "      <td>1.0</td>\n",
       "      <td>3.0</td>\n",
       "      <td>3.0</td>\n",
       "      <td>3.0</td>\n",
       "      <td>3.0</td>\n",
       "      <td>2.0</td>\n",
       "      <td>4.0</td>\n",
       "      <td>5.0</td>\n",
       "      <td>5.0</td>\n",
       "      <td>...</td>\n",
       "      <td>NaN</td>\n",
       "      <td>Ja</td>\n",
       "      <td>NaN</td>\n",
       "      <td>Joa, ab und zu musste ich nachschauen wie die ...</td>\n",
       "      <td>Joa, ich finde es ist eine gleichwertige Alter...</td>\n",
       "      <td>Nur wenn ich weiß, dass ich mit der gleiche Ta...</td>\n",
       "      <td>Nein</td>\n",
       "      <td>NaN</td>\n",
       "      <td>Ich würde es einen Versuch geben</td>\n",
       "      <td>NaN</td>\n",
       "    </tr>\n",
       "    <tr>\n",
       "      <th>3</th>\n",
       "      <td>2022-06-04 18:22:23.655</td>\n",
       "      <td>3.0</td>\n",
       "      <td>3.0</td>\n",
       "      <td>3.0</td>\n",
       "      <td>4.0</td>\n",
       "      <td>2.0</td>\n",
       "      <td>3.0</td>\n",
       "      <td>5.0</td>\n",
       "      <td>5.0</td>\n",
       "      <td>5.0</td>\n",
       "      <td>...</td>\n",
       "      <td>NaN</td>\n",
       "      <td>Ja</td>\n",
       "      <td>NaN</td>\n",
       "      <td>Ja</td>\n",
       "      <td>ja</td>\n",
       "      <td>NaN</td>\n",
       "      <td>Ja</td>\n",
       "      <td>NaN</td>\n",
       "      <td>Ja</td>\n",
       "      <td>NaN</td>\n",
       "    </tr>\n",
       "    <tr>\n",
       "      <th>4</th>\n",
       "      <td>2022-06-06 14:10:54.367</td>\n",
       "      <td>2.0</td>\n",
       "      <td>3.0</td>\n",
       "      <td>5.0</td>\n",
       "      <td>4.0</td>\n",
       "      <td>3.0</td>\n",
       "      <td>4.0</td>\n",
       "      <td>5.0</td>\n",
       "      <td>5.0</td>\n",
       "      <td>5.0</td>\n",
       "      <td>...</td>\n",
       "      <td>NaN</td>\n",
       "      <td>Jein</td>\n",
       "      <td>NaN</td>\n",
       "      <td>Naja, Ich musste umdenken, weil der Weg den ic...</td>\n",
       "      <td>ja</td>\n",
       "      <td>Durch die Darstellung in BPMN verläuft der Abl...</td>\n",
       "      <td>Ja</td>\n",
       "      <td>NaN</td>\n",
       "      <td>Ja</td>\n",
       "      <td>Nach dem verstehen, ist die Nutzung sehr angenehm</td>\n",
       "    </tr>\n",
       "    <tr>\n",
       "      <th>5</th>\n",
       "      <td>2022-06-06 22:47:34.590</td>\n",
       "      <td>2.0</td>\n",
       "      <td>2.0</td>\n",
       "      <td>2.0</td>\n",
       "      <td>4.0</td>\n",
       "      <td>4.0</td>\n",
       "      <td>3.0</td>\n",
       "      <td>5.0</td>\n",
       "      <td>5.0</td>\n",
       "      <td>5.0</td>\n",
       "      <td>...</td>\n",
       "      <td>Der Schritt wie man die Währungen mit einberec...</td>\n",
       "      <td>Ja</td>\n",
       "      <td>NaN</td>\n",
       "      <td>Joa, ab und zu musste ich nachschauen wie die ...</td>\n",
       "      <td>ja</td>\n",
       "      <td>NaN</td>\n",
       "      <td>Nein</td>\n",
       "      <td>NaN</td>\n",
       "      <td>Ja</td>\n",
       "      <td>NaN</td>\n",
       "    </tr>\n",
       "  </tbody>\n",
       "</table>\n",
       "<p>6 rows × 49 columns</p>\n",
       "</div>"
      ],
      "text/plain": [
       "              Zeitstempel  Ich habe Expertise im Finance Bereich  \\\n",
       "0 2022-06-03 10:57:46.749                                    3.0   \n",
       "1 2022-06-03 13:36:25.665                                    4.0   \n",
       "2 2022-06-03 20:09:52.077                                    1.0   \n",
       "3 2022-06-04 18:22:23.655                                    3.0   \n",
       "4 2022-06-06 14:10:54.367                                    2.0   \n",
       "5 2022-06-06 22:47:34.590                                    2.0   \n",
       "\n",
       "   Ich habe Expertise im Computer Science Bereich  \\\n",
       "0                                             4.0   \n",
       "1                                             0.0   \n",
       "2                                             3.0   \n",
       "3                                             3.0   \n",
       "4                                             3.0   \n",
       "5                                             2.0   \n",
       "\n",
       "   Ich kenne mich mit BPMN aus  Ich kenne mich mit Excel aus  \\\n",
       "0                          3.0                           2.0   \n",
       "1                          4.0                           5.0   \n",
       "2                          3.0                           3.0   \n",
       "3                          3.0                           4.0   \n",
       "4                          5.0                           4.0   \n",
       "5                          2.0                           4.0   \n",
       "\n",
       "   Ich kenne mich mit Datenbanken und SQL aus  \\\n",
       "0                                         2.0   \n",
       "1                                         1.0   \n",
       "2                                         3.0   \n",
       "3                                         2.0   \n",
       "4                                         3.0   \n",
       "5                                         4.0   \n",
       "\n",
       "   Ich kenne mich mit der Relationalen Algebra aus  \\\n",
       "0                                              3.0   \n",
       "1                                              0.0   \n",
       "2                                              2.0   \n",
       "3                                              3.0   \n",
       "4                                              4.0   \n",
       "5                                              3.0   \n",
       "\n",
       "   Die Vorstellung war verständlich  Die Konzepte wurden vernünftig erklärt  \\\n",
       "0                               5.0                                     5.0   \n",
       "1                               4.0                                     4.0   \n",
       "2                               4.0                                     5.0   \n",
       "3                               5.0                                     5.0   \n",
       "4                               5.0                                     5.0   \n",
       "5                               5.0                                     5.0   \n",
       "\n",
       "   Das gewählte Beispiel wurde vernünftig beschrieben  ...  \\\n",
       "0                                                5.0   ...   \n",
       "1                                                4.0   ...   \n",
       "2                                                5.0   ...   \n",
       "3                                                5.0   ...   \n",
       "4                                                5.0   ...   \n",
       "5                                                5.0   ...   \n",
       "\n",
       "                                      Anmerkungen.14  \\\n",
       "0  Allein hätte ich vermutlich mehr ausprobiert, ...   \n",
       "1                                                NaN   \n",
       "2                                                NaN   \n",
       "3                                                NaN   \n",
       "4                                                NaN   \n",
       "5  Der Schritt wie man die Währungen mit einberec...   \n",
       "\n",
       "   AutomaModela hatte alle Werkzeuge dich ich brauchte um das Beispiel zu lösen  \\\n",
       "0                                               Jein                              \n",
       "1  Ja, perspektivisch könnte man AutomaModela noc...                              \n",
       "2                                                 Ja                              \n",
       "3                                                 Ja                              \n",
       "4                                               Jein                              \n",
       "5                                                 Ja                              \n",
       "\n",
       "                                      Anmerkungen.15  \\\n",
       "0  für das MVP ja, für uns als Intermediäre reich...   \n",
       "1                                                NaN   \n",
       "2                                                NaN   \n",
       "3                                                NaN   \n",
       "4                                                NaN   \n",
       "5                                                NaN   \n",
       "\n",
       "   Das Modellieren des Beispiels verlief reibungslos  \\\n",
       "0  Joa, ab und zu musste ich nachschauen wie die ...   \n",
       "1  Joa, ab und zu musste ich nachschauen wie die ...   \n",
       "2  Joa, ab und zu musste ich nachschauen wie die ...   \n",
       "3                                                 Ja   \n",
       "4  Naja, Ich musste umdenken, weil der Weg den ic...   \n",
       "5  Joa, ab und zu musste ich nachschauen wie die ...   \n",
       "\n",
       "   Hätte ich die Wahl das Beispiel mit einer anderen (Transformations-)Anwendung (Excel, SQL, etc.) zu lösen, würde ich AutomaModela verwenden  \\\n",
       "0                                                 ja                                                                                             \n",
       "1                                               Nein                                                                                             \n",
       "2  Joa, ich finde es ist eine gleichwertige Alter...                                                                                             \n",
       "3                                                 ja                                                                                             \n",
       "4                                                 ja                                                                                             \n",
       "5                                                 ja                                                                                             \n",
       "\n",
       "                                      Anmerkungen.16  \\\n",
       "0                                                NaN   \n",
       "1                                                NaN   \n",
       "2  Nur wenn ich weiß, dass ich mit der gleiche Ta...   \n",
       "3                                                NaN   \n",
       "4  Durch die Darstellung in BPMN verläuft der Abl...   \n",
       "5                                                NaN   \n",
       "\n",
       "   Müsste ich die Transformation einer dritten Person erklären müssen, würde ich AutomaModela einer anderen (Transformations-)Anwendung bevorzugen  \\\n",
       "0                                                 Ja                                                                                                 \n",
       "1                                               Nein                                                                                                 \n",
       "2                                               Nein                                                                                                 \n",
       "3                                                 Ja                                                                                                 \n",
       "4                                                 Ja                                                                                                 \n",
       "5                                               Nein                                                                                                 \n",
       "\n",
       "   Anmerkungen.17  \\\n",
       "0             NaN   \n",
       "1             NaN   \n",
       "2             NaN   \n",
       "3             NaN   \n",
       "4             NaN   \n",
       "5             NaN   \n",
       "\n",
       "   Müsste ich eine  andere Transformation automatisieren müssen, würde ich dafür AutomaModela benutzen  \\\n",
       "0                   Ich würde es einen Versuch geben                                                     \n",
       "1                                               Nein                                                     \n",
       "2                   Ich würde es einen Versuch geben                                                     \n",
       "3                                                 Ja                                                     \n",
       "4                                                 Ja                                                     \n",
       "5                                                 Ja                                                     \n",
       "\n",
       "                                      Anmerkungen.18  \n",
       "0  Müssen wir für die Use Cases mal testen und da...  \n",
       "1  Mögliche Erweiterung von AutomaModela für noch...  \n",
       "2                                                NaN  \n",
       "3                                                NaN  \n",
       "4  Nach dem verstehen, ist die Nutzung sehr angenehm  \n",
       "5                                                NaN  \n",
       "\n",
       "[6 rows x 49 columns]"
      ]
     },
     "execution_count": 5,
     "metadata": {},
     "output_type": "execute_result"
    }
   ],
   "source": [
    "df = pd.read_excel(\"AutomaModela Testing (Antworten).xlsx\")\n",
    "df"
   ]
  },
  {
   "cell_type": "code",
   "execution_count": 6,
   "metadata": {},
   "outputs": [
    {
     "data": {
      "image/png": "[encoded data removed]",
      "text/plain": [
       "<Figure size 402.52x248.771 with 1 Axes>"
      ]
     },
     "metadata": {
      "needs_background": "light"
     },
     "output_type": "display_data"
    }
   ],
   "source": [
    "werte = df[\"Ich habe Expertise im Finance Bereich\"]\n",
    "x = list(range(6))\n",
    "y = [0]*6\n",
    "for _,val in werte.iteritems():\n",
    "    y[int(val)]+=1\n",
    "fig, ax = plt.subplots(1,1, figsize = set_size(twidth))\n",
    "#plot \n",
    "plt.bar(x,y )\n",
    "\n",
    "ax.set_xlabel(\"Einschätzung\")\n",
    "ax.set_ylabel(\"Antworten\")\n",
    "fig.savefig('Finanz.pdf', format='pdf', bbox_inches='tight')"
   ]
  },
  {
   "cell_type": "code",
   "execution_count": 7,
   "metadata": {},
   "outputs": [
    {
     "data": {
      "image/png": "[encoded data removed]",
      "text/plain": [
       "<Figure size 402.52x248.771 with 1 Axes>"
      ]
     },
     "metadata": {
      "needs_background": "light"
     },
     "output_type": "display_data"
    }
   ],
   "source": [
    "werte = df[\"Ich habe Expertise im Computer Science Bereich\"]\n",
    "x = list(range(6))\n",
    "y = [0]*6\n",
    "for _,val in werte.iteritems():\n",
    "    y[int(val)]+=1\n",
    "fig, ax = plt.subplots(1,1, figsize = set_size(twidth))\n",
    "#plot \n",
    "plt.bar(x,y )\n",
    "\n",
    "ax.set_xlabel(\"Einschätzung\")\n",
    "ax.set_ylabel(\"Antworten\")\n",
    "fig.savefig('CS.pdf', format='pdf', bbox_inches='tight')"
   ]
  },
  {
   "cell_type": "code",
   "execution_count": 8,
   "metadata": {},
   "outputs": [
    {
     "data": {
      "image/png": "[encoded data removed]",
      "text/plain": [
       "<Figure size 402.52x248.771 with 1 Axes>"
      ]
     },
     "metadata": {
      "needs_background": "light"
     },
     "output_type": "display_data"
    }
   ],
   "source": [
    "werte = df[\"Ich kenne mich mit BPMN aus\"]\n",
    "x = list(range(6))\n",
    "y = [0]*6\n",
    "for _,val in werte.iteritems():\n",
    "    y[int(val)]+=1\n",
    "fig, ax = plt.subplots(1,1, figsize = set_size(twidth))\n",
    "#plot \n",
    "plt.bar(x,y )\n",
    "\n",
    "ax.set_xlabel(\"Einschätzung\")\n",
    "ax.set_ylabel(\"Antworten\")\n",
    "fig.savefig('BPMN.pdf', format='pdf', bbox_inches='tight')"
   ]
  },
  {
   "cell_type": "code",
   "execution_count": 9,
   "metadata": {},
   "outputs": [
    {
     "data": {
      "image/png": "[encoded data removed]",
      "text/plain": [
       "<Figure size 402.52x248.771 with 1 Axes>"
      ]
     },
     "metadata": {
      "needs_background": "light"
     },
     "output_type": "display_data"
    }
   ],
   "source": [
    "werte = df[\"Ich kenne mich mit Excel aus\"]\n",
    "x = list(range(6))\n",
    "y = [0]*6\n",
    "for _,val in werte.iteritems():\n",
    "    y[int(val)]+=1\n",
    "fig, ax = plt.subplots(1,1, figsize = set_size(twidth))\n",
    "#plot \n",
    "plt.bar(x,y )\n",
    "\n",
    "ax.set_xlabel(\"Einschätzung\")\n",
    "ax.set_ylabel(\"Antworten\")\n",
    "fig.savefig('XL.pdf', format='pdf', bbox_inches='tight')"
   ]
  },
  {
   "cell_type": "code",
   "execution_count": 10,
   "metadata": {},
   "outputs": [
    {
     "data": {
      "image/png": "[encoded data removed]",
      "text/plain": [
       "<Figure size 402.52x248.771 with 1 Axes>"
      ]
     },
     "metadata": {
      "needs_background": "light"
     },
     "output_type": "display_data"
    }
   ],
   "source": [
    "werte = df[\"Ich kenne mich mit Datenbanken und SQL aus\"]\n",
    "x = list(range(6))\n",
    "y = [0]*6\n",
    "for _,val in werte.iteritems():\n",
    "    y[int(val)]+=1\n",
    "fig, ax = plt.subplots(1,1, figsize = set_size(twidth))\n",
    "#plot \n",
    "plt.bar(x,y )\n",
    "\n",
    "ax.set_xlabel(\"Einschätzung\")\n",
    "ax.set_ylabel(\"Antworten\")\n",
    "fig.savefig('SQL.pdf', format='pdf', bbox_inches='tight')"
   ]
  },
  {
   "cell_type": "code",
   "execution_count": 11,
   "metadata": {},
   "outputs": [
    {
     "data": {
      "image/png": "[encoded data removed]",
      "text/plain": [
       "<Figure size 402.52x248.771 with 1 Axes>"
      ]
     },
     "metadata": {
      "needs_background": "light"
     },
     "output_type": "display_data"
    }
   ],
   "source": [
    "werte = df[\"Ich kenne mich mit der Relationalen Algebra aus\"]\n",
    "x = list(range(6))\n",
    "y = [0]*6\n",
    "for _,val in werte.iteritems():\n",
    "    y[int(val)]+=1\n",
    "fig, ax = plt.subplots(1,1, figsize = set_size(twidth))\n",
    "#plot \n",
    "plt.bar(x,y )\n",
    "\n",
    "ax.set_xlabel(\"Einschätzung\")\n",
    "ax.set_ylabel(\"Antworten\")\n",
    "fig.savefig('RA.pdf', format='pdf', bbox_inches='tight')"
   ]
  },
  {
   "cell_type": "code",
   "execution_count": 12,
   "metadata": {},
   "outputs": [
    {
     "data": {
      "image/png": "[encoded data removed]",
      "text/plain": [
       "<Figure size 402.52x248.771 with 1 Axes>"
      ]
     },
     "metadata": {
      "needs_background": "light"
     },
     "output_type": "display_data"
    }
   ],
   "source": [
    "werte = df[\"Die Vorstellung war verständlich\"]\n",
    "x = list(range(6))\n",
    "y = [0]*6\n",
    "for _,val in werte.iteritems():\n",
    "    y[int(val)]+=1\n",
    "fig, ax = plt.subplots(1,1, figsize = set_size(twidth))\n",
    "#plot \n",
    "plt.bar(x,y )\n",
    "\n",
    "ax.set_xlabel(\"Einschätzung\")\n",
    "ax.set_ylabel(\"Antworten\")\n",
    "fig.savefig('Vorste.pdf', format='pdf', bbox_inches='tight')"
   ]
  },
  {
   "cell_type": "code",
   "execution_count": 13,
   "metadata": {},
   "outputs": [
    {
     "data": {
      "image/png": "[encoded data removed]",
      "text/plain": [
       "<Figure size 402.52x248.771 with 1 Axes>"
      ]
     },
     "metadata": {
      "needs_background": "light"
     },
     "output_type": "display_data"
    }
   ],
   "source": [
    "werte = df[\"Die Konzepte wurden vernünftig erklärt\"]\n",
    "x = list(range(6))\n",
    "y = [0]*6\n",
    "for _,val in werte.iteritems():\n",
    "    y[int(val)]+=1\n",
    "fig, ax = plt.subplots(1,1, figsize = set_size(twidth))\n",
    "#plot \n",
    "plt.bar(x,y )\n",
    "\n",
    "ax.set_xlabel(\"Einschätzung\")\n",
    "ax.set_ylabel(\"Antworten\")\n",
    "fig.savefig('KonzVer.pdf', format='pdf', bbox_inches='tight')"
   ]
  },
  {
   "cell_type": "code",
   "execution_count": 14,
   "metadata": {},
   "outputs": [
    {
     "data": {
      "image/png": "[encoded data removed]",
      "text/plain": [
       "<Figure size 402.52x248.771 with 1 Axes>"
      ]
     },
     "metadata": {
      "needs_background": "light"
     },
     "output_type": "display_data"
    }
   ],
   "source": [
    "werte = df[\"Das gewählte Beispiel wurde vernünftig beschrieben\"]\n",
    "x = list(range(6))\n",
    "y = [0]*6\n",
    "for _,val in werte.iteritems():\n",
    "    y[int(val)]+=1\n",
    "fig, ax = plt.subplots(1,1, figsize = set_size(twidth))\n",
    "#plot \n",
    "plt.bar(x,y )\n",
    "\n",
    "ax.set_xlabel(\"Einschätzung\")\n",
    "ax.set_ylabel(\"Antworten\")\n",
    "fig.savefig('BSPVer.pdf', format='pdf', bbox_inches='tight')"
   ]
  },
  {
   "cell_type": "code",
   "execution_count": 15,
   "metadata": {},
   "outputs": [
    {
     "data": {
      "image/png": "[encoded data removed]",
      "text/plain": [
       "<Figure size 402.52x248.771 with 1 Axes>"
      ]
     },
     "metadata": {
      "needs_background": "light"
     },
     "output_type": "display_data"
    }
   ],
   "source": [
    "werte = df[\"Ich habe das Konzept von AutomaModela verstanden\"]\n",
    "x = list(range(6))\n",
    "y = [0]*6\n",
    "for _,val in werte.iteritems():\n",
    "    y[int(val)]+=1\n",
    "fig, ax = plt.subplots(1,1, figsize = set_size(twidth))\n",
    "#plot \n",
    "plt.bar(x,y )\n",
    "\n",
    "ax.set_xlabel(\"Einschätzung\")\n",
    "ax.set_ylabel(\"Antworten\")\n",
    "fig.savefig('KonzVerstand.pdf', format='pdf', bbox_inches='tight')"
   ]
  },
  {
   "cell_type": "code",
   "execution_count": 16,
   "metadata": {},
   "outputs": [
    {
     "data": {
      "image/png": "[encoded data removed]",
      "text/plain": [
       "<Figure size 402.52x248.771 with 1 Axes>"
      ]
     },
     "metadata": {
      "needs_background": "light"
     },
     "output_type": "display_data"
    }
   ],
   "source": [
    "werte = df[\"Ich wäre in der Lage den ungefähren Weg, welchen der Token in einem Model nimmt, zu verfolgen\"]\n",
    "x = list(range(6))\n",
    "y = [0]*6\n",
    "for _,val in werte.iteritems():\n",
    "    y[int(val)]+=1\n",
    "fig, ax = plt.subplots(1,1, figsize = set_size(twidth))\n",
    "#plot \n",
    "plt.bar(x,y )\n",
    "\n",
    "ax.set_xlabel(\"Einschätzung\")\n",
    "ax.set_ylabel(\"Antworten\")\n",
    "fig.savefig('TokenpathVer.pdf', format='pdf', bbox_inches='tight')"
   ]
  },
  {
   "cell_type": "code",
   "execution_count": 17,
   "metadata": {},
   "outputs": [
    {
     "data": {
      "image/png": "[encoded data removed]",
      "text/plain": [
       "<Figure size 402.52x248.771 with 1 Axes>"
      ]
     },
     "metadata": {
      "needs_background": "light"
     },
     "output_type": "display_data"
    }
   ],
   "source": [
    "werte = df[\"Die Darstellung von Daten als Token ergibt Sinn\"]\n",
    "x = list(range(6))\n",
    "y = [0]*6\n",
    "for _,val in werte.iteritems():\n",
    "    y[int(val)]+=1\n",
    "fig, ax = plt.subplots(1,1, figsize = set_size(twidth))\n",
    "#plot \n",
    "plt.bar(x,y )\n",
    "\n",
    "ax.set_xlabel(\"Einschätzung\")\n",
    "ax.set_ylabel(\"Antworten\")\n",
    "fig.savefig('TokenAsData.pdf', format='pdf', bbox_inches='tight')"
   ]
  },
  {
   "cell_type": "code",
   "execution_count": 18,
   "metadata": {},
   "outputs": [
    {
     "data": {
      "image/png": "[encoded data removed]",
      "text/plain": [
       "<Figure size 402.52x248.771 with 1 Axes>"
      ]
     },
     "metadata": {
      "needs_background": "light"
     },
     "output_type": "display_data"
    }
   ],
   "source": [
    "werte = df[\"Die Funktionalität der BPMN Symbole in Bezug auf Daten ergeben Sinn\"]\n",
    "x = list(range(6))\n",
    "y = [0]*6\n",
    "for _,val in werte.iteritems():\n",
    "    y[int(val)]+=1\n",
    "fig, ax = plt.subplots(1,1, figsize = set_size(twidth))\n",
    "#plot \n",
    "plt.bar(x,y )\n",
    "\n",
    "ax.set_xlabel(\"Einschätzung\")\n",
    "ax.set_ylabel(\"Antworten\")\n",
    "fig.savefig('SymbolsData.pdf', format='pdf', bbox_inches='tight')"
   ]
  },
  {
   "cell_type": "code",
   "execution_count": 19,
   "metadata": {},
   "outputs": [
    {
     "data": {
      "image/png": "[encoded data removed]",
      "text/plain": [
       "<Figure size 402.52x248.771 with 1 Axes>"
      ]
     },
     "metadata": {
      "needs_background": "light"
     },
     "output_type": "display_data"
    }
   ],
   "source": [
    "werte = df[\"Die Transformationsbeschreibungen (Aufgabe, Gateway) ergeben Sinn\"]\n",
    "x = list(range(6))\n",
    "y = [0]*6\n",
    "for _,val in werte.iteritems():\n",
    "    y[int(val)]+=1\n",
    "fig, ax = plt.subplots(1,1, figsize = set_size(twidth))\n",
    "#plot \n",
    "plt.bar(x,y )\n",
    "\n",
    "ax.set_xlabel(\"Einschätzung\")\n",
    "ax.set_ylabel(\"Antworten\")\n",
    "fig.savefig('TransBesch.pdf', format='pdf', bbox_inches='tight')"
   ]
  },
  {
   "cell_type": "code",
   "execution_count": 20,
   "metadata": {},
   "outputs": [
    {
     "data": {
      "image/png": "[encoded data removed]",
      "text/plain": [
       "<Figure size 402.52x248.771 with 1 Axes>"
      ]
     },
     "metadata": {
      "needs_background": "light"
     },
     "output_type": "display_data"
    }
   ],
   "source": [
    "werte = df[\"Der Weg wie ich Argumente (eigene Inputs ) in die Transformationsbeschreibungen einfüge ist Intuitive\"]\n",
    "x = list(range(6))\n",
    "y = [0]*6\n",
    "for _,val in werte.iteritems():\n",
    "    y[int(val)]+=1\n",
    "fig, ax = plt.subplots(1,1, figsize = set_size(twidth))\n",
    "#plot \n",
    "plt.bar(x,y )\n",
    "\n",
    "ax.set_xlabel(\"Einschätzung\")\n",
    "ax.set_ylabel(\"Antworten\")\n",
    "fig.savefig('arguments.pdf', format='pdf', bbox_inches='tight')"
   ]
  },
  {
   "cell_type": "code",
   "execution_count": 21,
   "metadata": {},
   "outputs": [
    {
     "data": {
      "image/png": "[encoded data removed]",
      "text/plain": [
       "<Figure size 402.52x248.771 with 1 Axes>"
      ]
     },
     "metadata": {
      "needs_background": "light"
     },
     "output_type": "display_data"
    }
   ],
   "source": [
    "werte = df[\"Der Weg wie ich Berechnungen(Expression) und Abfragen (Queries) aufschreibe ist Inuitive\"]\n",
    "x = list(range(6))\n",
    "y = [0]*6\n",
    "for _,val in werte.iteritems():\n",
    "    y[int(val)]+=1\n",
    "fig, ax = plt.subplots(1,1, figsize = set_size(twidth))\n",
    "#plot \n",
    "plt.bar(x,y )\n",
    "\n",
    "ax.set_xlabel(\"Einschätzung\")\n",
    "ax.set_ylabel(\"Antworten\")\n",
    "fig.savefig('Express.pdf', format='pdf', bbox_inches='tight')"
   ]
  },
  {
   "cell_type": "code",
   "execution_count": 22,
   "metadata": {},
   "outputs": [
    {
     "data": {
      "image/png": "[encoded data removed]",
      "text/plain": [
       "<Figure size 402.52x248.771 with 1 Axes>"
      ]
     },
     "metadata": {
      "needs_background": "light"
     },
     "output_type": "display_data"
    }
   ],
   "source": [
    "werte = df[\"Von den kennengelernten Transformationsbeschreibung für Aufgaben, gegeben einer Transformationsbeschreibung und den Daten, könnte ich ungefähr beschreiben was passiert\"]\n",
    "x = list(range(6))\n",
    "y = [0]*6\n",
    "for _,val in werte.iteritems():\n",
    "    y[int(val)]+=1\n",
    "fig, ax = plt.subplots(1,1, figsize = set_size(twidth))\n",
    "#plot \n",
    "plt.bar(x,y )\n",
    "\n",
    "ax.set_xlabel(\"Einschätzung\")\n",
    "ax.set_ylabel(\"Antworten\")\n",
    "fig.savefig('AufgabeVerst.pdf', format='pdf', bbox_inches='tight')"
   ]
  },
  {
   "cell_type": "code",
   "execution_count": 23,
   "metadata": {},
   "outputs": [
    {
     "data": {
      "image/png": "[encoded data removed]",
      "text/plain": [
       "<Figure size 402.52x248.771 with 1 Axes>"
      ]
     },
     "metadata": {
      "needs_background": "light"
     },
     "output_type": "display_data"
    }
   ],
   "source": [
    "werte = df[\"Von den kennengelernten Transformationsbeschreibung für öffnenden Gateways, gegeben einer Transformationsbeschreibung und den Daten, könnte ich ungefähr beschreiben was passiert\"]\n",
    "x = list(range(6))\n",
    "y = [0]*6\n",
    "for _,val in werte.iteritems():\n",
    "    y[int(val)]+=1\n",
    "fig, ax = plt.subplots(1,1, figsize = set_size(twidth))\n",
    "#plot \n",
    "plt.bar(x,y )\n",
    "\n",
    "ax.set_xlabel(\"Einschätzung\")\n",
    "ax.set_ylabel(\"Antworten\")\n",
    "fig.savefig('oefgeVerst.pdf', format='pdf', bbox_inches='tight')"
   ]
  },
  {
   "cell_type": "code",
   "execution_count": 24,
   "metadata": {},
   "outputs": [
    {
     "data": {
      "image/png": "[encoded data removed]",
      "text/plain": [
       "<Figure size 402.52x248.771 with 1 Axes>"
      ]
     },
     "metadata": {
      "needs_background": "light"
     },
     "output_type": "display_data"
    }
   ],
   "source": [
    "werte = df[\"Von den kennengelernten Transformationsbeschreibung für Schließenden Gateways, gegeben einer Transformationsbeschreibung und den Daten, könnte ich ungefähr beschreiben was passiert\"]\n",
    "x = list(range(6))\n",
    "y = [0]*6\n",
    "for _,val in werte.iteritems():\n",
    "    y[int(val)]+=1\n",
    "fig, ax = plt.subplots(1,1, figsize = set_size(twidth))\n",
    "#plot \n",
    "plt.bar(x,y )\n",
    "# \n",
    "ax.set_xlabel(\"Einschätzung\")\n",
    "ax.set_ylabel(\"Antworten\")\n",
    "fig.savefig('schlgateVerst.pdf', format='pdf', bbox_inches='tight')"
   ]
  },
  {
   "cell_type": "code",
   "execution_count": 25,
   "metadata": {},
   "outputs": [
    {
     "data": {
      "image/png": "[encoded data removed]",
      "text/plain": [
       "<Figure size 402.52x248.771 with 1 Axes>"
      ]
     },
     "metadata": {
      "needs_background": "light"
     },
     "output_type": "display_data"
    }
   ],
   "source": [
    "werte = df[\"Flow Priorities erleichtern es nachzuvollziehen wie eine Kombination im schließenden Gateway abläuft\"]\n",
    "x = list(range(6))\n",
    "y = [0]*6\n",
    "for _,val in werte.iteritems():\n",
    "    y[int(val)]+=1\n",
    "fig, ax = plt.subplots(1,1, figsize = set_size(twidth))\n",
    "#plot \n",
    "plt.bar(x,y )\n",
    "# \n",
    "ax.set_xlabel(\"Einschätzung\")\n",
    "ax.set_ylabel(\"Antworten\")\n",
    "fig.savefig('fb.pdf', format='pdf', bbox_inches='tight')"
   ]
  },
  {
   "cell_type": "code",
   "execution_count": 26,
   "metadata": {},
   "outputs": [
    {
     "data": {
      "image/png": "[encoded data removed]",
      "text/plain": [
       "<Figure size 402.52x248.771 with 1 Axes>"
      ]
     },
     "metadata": {
      "needs_background": "light"
     },
     "output_type": "display_data"
    }
   ],
   "source": [
    "werte = df[\"Alles in einem würde ich ein Model nach AutomaModela verstehen können, wenn ich es sehe\"]\n",
    "x = list(range(6))\n",
    "y = [0]*6\n",
    "for _,val in werte.iteritems():\n",
    "    y[int(val)]+=1\n",
    "fig, ax = plt.subplots(1,1, figsize = set_size(twidth))\n",
    "#plot \n",
    "plt.bar(x,y )\n",
    "# \n",
    "ax.set_xlabel(\"Einschätzung\")\n",
    "ax.set_ylabel(\"Antworten\")\n",
    "fig.savefig('ainamv.pdf', format='pdf', bbox_inches='tight')"
   ]
  },
  {
   "cell_type": "code",
   "execution_count": 27,
   "metadata": {},
   "outputs": [
    {
     "data": {
      "image/png": "[encoded data removed]",
      "text/plain": [
       "<Figure size 402.52x248.771 with 1 Axes>"
      ]
     },
     "metadata": {
      "needs_background": "light"
     },
     "output_type": "display_data"
    }
   ],
   "source": [
    "werte = df[\"Im generellen Finde ich das AutomaModela Modelle Datentransformationen verständlich ausdrücken\"]\n",
    "x = list(range(6))\n",
    "y = [0]*6\n",
    "for _,val in werte.iteritems():\n",
    "    y[int(val)]+=1\n",
    "fig, ax = plt.subplots(1,1, figsize = set_size(twidth))\n",
    "#plot \n",
    "plt.bar(x,y )\n",
    "# \n",
    "ax.set_xlabel(\"Einschätzung\")\n",
    "ax.set_ylabel(\"Antworten\")\n",
    "fig.savefig('generallAM.pdf', format='pdf', bbox_inches='tight')"
   ]
  },
  {
   "cell_type": "code",
   "execution_count": 28,
   "metadata": {},
   "outputs": [
    {
     "data": {
      "image/png": "[encoded data removed]",
      "text/plain": [
       "<Figure size 402.52x248.771 with 1 Axes>"
      ]
     },
     "metadata": {
      "needs_background": "light"
     },
     "output_type": "display_data"
    }
   ],
   "source": [
    "werte = df[\"Im generellen Finde ich das AutomaModela Modelle Datentransformationen verständlich ausdrücken\"]\n",
    "x = list(range(6))\n",
    "y = [0]*6\n",
    "for _,val in werte.iteritems():\n",
    "    y[int(val)]+=1\n",
    "fig, ax = plt.subplots(1,1, figsize = set_size(twidth))\n",
    "#plot \n",
    "plt.bar(x,y )\n",
    "# \n",
    "ax.set_xlabel(\"Einschätzung\")\n",
    "ax.set_ylabel(\"Antworten\")\n",
    "fig.savefig('generallAM.pdf', format='pdf', bbox_inches='tight')"
   ]
  },
  {
   "cell_type": "code",
   "execution_count": 29,
   "metadata": {},
   "outputs": [
    {
     "data": {
      "image/png": "[encoded data removed]",
      "text/plain": [
       "<Figure size 402.52x248.771 with 1 Axes>"
      ]
     },
     "metadata": {
      "needs_background": "light"
     },
     "output_type": "display_data"
    }
   ],
   "source": [
    "werte = df[\"Die Komplexität des Beispiels würde ich als _ beschreiben\"]\n",
    "x = list(range(6))\n",
    "y = [0]*6\n",
    "for _,val in werte.iteritems():\n",
    "    y[int(val)]+=1\n",
    "fig, ax = plt.subplots(1,1, figsize = set_size(twidth))\n",
    "#plot \n",
    "plt.bar(x,y )\n",
    "# \n",
    "ax.set_xlabel(\"Einschätzung\")\n",
    "ax.set_ylabel(\"Antworten\")\n",
    "fig.savefig('BspKompl.pdf', format='pdf', bbox_inches='tight')"
   ]
  },
  {
   "cell_type": "code",
   "execution_count": 30,
   "metadata": {},
   "outputs": [],
   "source": [
    "def make_autopct(values):\n",
    "    def my_autopct(pct):\n",
    "        total = sum(values)\n",
    "        val = int(round(pct*total/100.0))\n",
    "        return '{p:.2f}\\%  ({v:d})'.format(p=pct,v=val)\n",
    "    return my_autopct"
   ]
  },
  {
   "cell_type": "code",
   "execution_count": 31,
   "metadata": {},
   "outputs": [
    {
     "data": {
      "image/png": "[encoded data removed]",
      "text/plain": [
       "<Figure size 402.52x248.771 with 1 Axes>"
      ]
     },
     "metadata": {},
     "output_type": "display_data"
    }
   ],
   "source": [
    "plt.close()\n",
    "werte = df[\"Ich fühlte mich in der Lage das Problem in AutomaModela zu lösen\"]\n",
    "labes = list(werte.unique())\n",
    "x = [0] *len(labes)\n",
    "for _,val in werte.iteritems():\n",
    "    x[labes.index(val)] += 1\n",
    "fig, ax = plt.subplots(1,1, figsize = set_size(twidth))\n",
    "#plot \n",
    "labels = [ '\\n'.join(wrap(l, 30)) for l in labes ]\n",
    "patches, texts, autotexts = plt.pie(x, labels=labels, autopct=make_autopct(x))\n",
    "\n",
    "fig.savefig('loesenkann.pdf', format='pdf', bbox_inches='tight')"
   ]
  },
  {
   "cell_type": "code",
   "execution_count": 32,
   "metadata": {},
   "outputs": [
    {
     "data": {
      "image/png": "[encoded data removed]",
      "text/plain": [
       "<Figure size 402.52x248.771 with 1 Axes>"
      ]
     },
     "metadata": {},
     "output_type": "display_data"
    }
   ],
   "source": [
    "werte = df[\"AutomaModela hatte alle Werkzeuge dich ich brauchte um das Beispiel zu lösen\"]\n",
    "labes = list(werte.unique())\n",
    "x = [0] *len(labes)\n",
    "for _,val in werte.iteritems():\n",
    "    x[labes.index(val)] += 1\n",
    "fig, ax = plt.subplots(1,1, figsize = set_size(twidth))\n",
    "#plot \n",
    "labels = [ '\\n'.join(wrap(l, 30)) for l in labes ]\n",
    "patches, texts, autotexts = plt.pie(x, labels=labels, autopct=make_autopct(x))\n",
    "\n",
    "fig.savefig('Werk.pdf', format='pdf', bbox_inches='tight')"
   ]
  },
  {
   "cell_type": "code",
   "execution_count": 33,
   "metadata": {},
   "outputs": [
    {
     "data": {
      "image/png": "[encoded data removed]",
      "text/plain": [
       "<Figure size 402.52x248.771 with 1 Axes>"
      ]
     },
     "metadata": {},
     "output_type": "display_data"
    }
   ],
   "source": [
    "werte = df[\"Das Modellieren des Beispiels verlief reibungslos\"]\n",
    "labes = list(werte.unique())\n",
    "x = [0] *len(labes)\n",
    "for _,val in werte.iteritems():\n",
    "    x[labes.index(val)] += 1\n",
    "fig, ax = plt.subplots(1,1, figsize = set_size(twidth))\n",
    "#plot \n",
    "labels = [ '\\n'.join(wrap(l, 30)) for l in labes ]\n",
    "patches, texts, autotexts = plt.pie(x, labels=labels, autopct=make_autopct(x))\n",
    "\n",
    "fig.savefig('modreib.pdf', format='pdf', bbox_inches='tight')"
   ]
  },
  {
   "cell_type": "code",
   "execution_count": 34,
   "metadata": {},
   "outputs": [
    {
     "data": {
      "image/png": "[encoded data removed]",
      "text/plain": [
       "<Figure size 402.52x248.771 with 1 Axes>"
      ]
     },
     "metadata": {},
     "output_type": "display_data"
    }
   ],
   "source": [
    "werte = df[\"Hätte ich die Wahl das Beispiel mit einer anderen (Transformations-)Anwendung (Excel, SQL, etc.) zu lösen, würde ich AutomaModela verwenden\"]\n",
    "labes = list(werte.unique())\n",
    "x = [0] *len(labes)\n",
    "for _,val in werte.iteritems():\n",
    "    x[labes.index(val)] += 1\n",
    "fig, ax = plt.subplots(1,1, figsize = set_size(twidth))\n",
    "#plot \n",
    "labels = [ '\\n'.join(wrap(l, 30)) for l in labes ]\n",
    "patches, texts, autotexts = plt.pie(x, labels=labels, autopct=make_autopct(x))\n",
    "\n",
    "fig.savefig('andereWahl.pdf', format='pdf', bbox_inches='tight')"
   ]
  },
  {
   "cell_type": "code",
   "execution_count": 35,
   "metadata": {},
   "outputs": [
    {
     "data": {
      "image/png": "[encoded data removed]",
      "text/plain": [
       "<Figure size 402.52x248.771 with 1 Axes>"
      ]
     },
     "metadata": {},
     "output_type": "display_data"
    }
   ],
   "source": [
    "werte = df[\"Müsste ich die Transformation einer dritten Person erklären müssen, würde ich AutomaModela einer anderen (Transformations-)Anwendung bevorzugen\"]\n",
    "labes = list(werte.unique())\n",
    "x = [0] *len(labes)\n",
    "for _,val in werte.iteritems():\n",
    "    x[labes.index(val)] += 1\n",
    "fig, ax = plt.subplots(1,1, figsize = set_size(twidth))\n",
    "#plot \n",
    "labels = [ '\\n'.join(wrap(l, 30)) for l in labes ]\n",
    "patches, texts, autotexts = plt.pie(x, labels=labels, autopct=make_autopct(x))\n",
    "\n",
    "fig.savefig('drittePers.pdf', format='pdf', bbox_inches='tight')"
   ]
  },
  {
   "cell_type": "code",
   "execution_count": 36,
   "metadata": {},
   "outputs": [
    {
     "data": {
      "image/png": "[encoded data removed]",
      "text/plain": [
       "<Figure size 402.52x248.771 with 1 Axes>"
      ]
     },
     "metadata": {},
     "output_type": "display_data"
    }
   ],
   "source": [
    "werte = df[\"Müsste ich eine  andere Transformation automatisieren müssen, würde ich dafür AutomaModela benutzen\"]\n",
    "labes = list(werte.unique())\n",
    "x = [0] *len(labes)\n",
    "for _,val in werte.iteritems():\n",
    "    x[labes.index(val)] += 1\n",
    "fig, ax = plt.subplots(1,1, figsize = set_size(twidth))\n",
    "#plot \n",
    "labels = [ '\\n'.join(wrap(l, 30)) for l in labes ]\n",
    "patches, texts, autotexts = plt.pie(x, labels=labels, autopct=make_autopct(x))\n",
    "\n",
    "fig.savefig('andere Trans.pdf', format='pdf', bbox_inches='tight')"
   ]
  },
  {
   "cell_type": "code",
   "execution_count": 45,
   "metadata": {},
   "outputs": [
    {
     "name": "stdout",
     "output_type": "stream",
     "text": [
      "\n",
      "\\begin{figure}[htb!]\n",
      "    \\centering\n",
      "    \\includegraphics{Figures/Chapter9/1}\n",
      "\\caption{AutomaModela hatte alle Werkzeuge dich ich brauchte um das Beispiel zu lösen}\n",
      "\\label{fig:Antwort1}\n",
      "\\end{figure}\n",
      "\n"
     ]
    },
    {
     "data": {
      "image/png": "[encoded data removed]",
      "text/plain": [
       "<Figure size 402.52x248.771 with 1 Axes>"
      ]
     },
     "metadata": {},
     "output_type": "display_data"
    }
   ],
   "source": [
    "def make_plot(df, name, title, pie):\n",
    "    plt.close()\n",
    "    werte = df[title]\n",
    "    if pie:\n",
    "        labes = list(werte.unique())\n",
    "        x = [0] *len(labes)\n",
    "        for _,val in werte.iteritems():\n",
    "            x[labes.index(val)] += 1\n",
    "        fig, ax = plt.subplots(1,1, figsize = set_size(twidth))\n",
    "        #plot \n",
    "        labels = [ '\\n'.join(wrap(l, 30)) for l in labes ]\n",
    "        patches, texts, autotexts = plt.pie(x, labels=labels, autopct=make_autopct(x))\n",
    "    else:\n",
    "        x = list(range(6))\n",
    "        y = [0]*6\n",
    "        for _,val in werte.iteritems():\n",
    "            y[int(val)]+=1\n",
    "        fig, ax = plt.subplots(1,1, figsize = set_size(twidth))\n",
    "        #plot \n",
    "        plt.bar(x,y )\n",
    "        # \n",
    "        ax.set_xlabel(\"Einschätzung\")\n",
    "        ax.set_ylabel(\"Antworten\")\n",
    "    fig.savefig(f'newPlots/{name}.pdf', format='pdf', bbox_inches='tight')\n",
    "    return f\"\"\"\n",
    "\\\\begin{{figure}}[htb!]\n",
    "    \\centering\n",
    "    \\includegraphics{{Figures/Chapter9/{name}}}\n",
    "\\caption{{{title}}}\n",
    "\\label{{fig:Antwort{name}}}\n",
    "\\end{{figure}}\n",
    "\"\"\"\n",
    "print(make_plot(df, 1, \"AutomaModela hatte alle Werkzeuge dich ich brauchte um das Beispiel zu lösen\", True))"
   ]
  },
  {
   "cell_type": "code",
   "execution_count": 38,
   "metadata": {},
   "outputs": [
    {
     "data": {
      "text/plain": [
       "[('Ich habe Expertise im Finance Bereich', False),\n",
       " ('Ich habe Expertise im Computer Science Bereich', False),\n",
       " ('Ich kenne mich mit BPMN aus', False),\n",
       " ('Ich kenne mich mit Excel aus', False),\n",
       " ('Ich kenne mich mit Datenbanken und SQL aus', False),\n",
       " ('Ich kenne mich mit der Relationalen Algebra aus', False),\n",
       " ('Die Vorstellung war verständlich', False),\n",
       " ('Die Konzepte wurden vernünftig erklärt', False),\n",
       " ('Das gewählte Beispiel wurde vernünftig beschrieben', False),\n",
       " ('Ich habe das Konzept von AutomaModela verstanden', False),\n",
       " ('Ich wäre in der Lage den ungefähren Weg, welchen der Token in einem Model nimmt, zu verfolgen',\n",
       "  False),\n",
       " ('Die Darstellung von Daten als Token ergibt Sinn', False),\n",
       " ('Die Funktionalität der BPMN Symbole in Bezug auf Daten ergeben Sinn',\n",
       "  False),\n",
       " ('Die Transformationsbeschreibungen (Aufgabe, Gateway) ergeben Sinn', False),\n",
       " ('Der Weg wie ich Argumente (eigene Inputs ) in die Transformationsbeschreibungen einfüge ist Intuitive',\n",
       "  False),\n",
       " ('Der Weg wie ich Berechnungen(Expression) und Abfragen (Queries) aufschreibe ist Inuitive',\n",
       "  False),\n",
       " ('Von den kennengelernten Transformationsbeschreibung für Aufgaben, gegeben einer Transformationsbeschreibung und den Daten, könnte ich ungefähr beschreiben was passiert',\n",
       "  False),\n",
       " ('Von den kennengelernten Transformationsbeschreibung für öffnenden Gateways, gegeben einer Transformationsbeschreibung und den Daten, könnte ich ungefähr beschreiben was passiert',\n",
       "  False),\n",
       " ('Von den kennengelernten Transformationsbeschreibung für Schließenden Gateways, gegeben einer Transformationsbeschreibung und den Daten, könnte ich ungefähr beschreiben was passiert',\n",
       "  False),\n",
       " ('Flow Priorities erleichtern es nachzuvollziehen wie eine Kombination im schließenden Gateway abläuft',\n",
       "  False),\n",
       " ('Alles in einem würde ich ein Model nach AutomaModela verstehen können, wenn ich es sehe',\n",
       "  False),\n",
       " ('Im generellen Finde ich das AutomaModela Modelle Datentransformationen verständlich ausdrücken',\n",
       "  False),\n",
       " ('Die Komplexität des Beispiels würde ich als _ beschreiben', False),\n",
       " ('Ich fühlte mich in der Lage das Problem in AutomaModela zu lösen', False),\n",
       " ('AutomaModela hatte alle Werkzeuge dich ich brauchte um das Beispiel zu lösen',\n",
       "  False),\n",
       " ('Das Modellieren des Beispiels verlief reibungslos', False),\n",
       " ('Hätte ich die Wahl das Beispiel mit einer anderen (Transformations-)Anwendung (Excel, SQL, etc.) zu lösen, würde ich AutomaModela verwenden',\n",
       "  False),\n",
       " ('Müsste ich die Transformation einer dritten Person erklären müssen, würde ich AutomaModela einer anderen (Transformations-)Anwendung bevorzugen',\n",
       "  False),\n",
       " ('Müsste ich eine  andere Transformation automatisieren müssen, würde ich dafür AutomaModela benutzen',\n",
       "  False)]"
      ]
     },
     "execution_count": 38,
     "metadata": {},
     "output_type": "execute_result"
    }
   ],
   "source": [
    "cols = list(df.columns)\n",
    "cols = filter(lambda x :  not x.startswith(\"Anmerkung\"), cols)\n",
    "cols = list(cols)[1:]\n",
    "cols = [(t, False) for t in cols]\n",
    "cols"
   ]
  },
  {
   "cell_type": "code",
   "execution_count": 39,
   "metadata": {},
   "outputs": [],
   "source": [
    "liste = [('Ich habe Expertise im Finance Bereich', False),\n",
    " ('Ich habe Expertise im Computer Science Bereich', False),\n",
    " ('Ich kenne mich mit BPMN aus', False),\n",
    " ('Ich kenne mich mit Excel aus', False),\n",
    " ('Ich kenne mich mit Datenbanken und SQL aus', False),\n",
    " ('Ich kenne mich mit der Relationalen Algebra aus', False),\n",
    " ('Die Vorstellung war verständlich', False),\n",
    " ('Die Konzepte wurden vernünftig erklärt', False),\n",
    " ('Das gewählte Beispiel wurde vernünftig beschrieben', False),\n",
    " ('Ich habe das Konzept von AutomaModela verstanden', False),\n",
    " ('Ich wäre in der Lage den ungefähren Weg, welchen der Token in einem Model nimmt, zu verfolgen',\n",
    "  False),\n",
    " ('Die Darstellung von Daten als Token ergibt Sinn', False),\n",
    " ('Die Funktionalität der BPMN Symbole in Bezug auf Daten ergeben Sinn',\n",
    "  False),\n",
    " ('Die Transformationsbeschreibungen (Aufgabe, Gateway) ergeben Sinn', False),\n",
    " ('Der Weg wie ich Argumente (eigene Inputs ) in die Transformationsbeschreibungen einfüge ist Intuitive',\n",
    "  False),\n",
    " ('Der Weg wie ich Berechnungen(Expression) und Abfragen (Queries) aufschreibe ist Inuitive',\n",
    "  False),\n",
    " ('Von den kennengelernten Transformationsbeschreibung für Aufgaben, gegeben einer Transformationsbeschreibung und den Daten, könnte ich ungefähr beschreiben was passiert',\n",
    "  False),\n",
    " ('Von den kennengelernten Transformationsbeschreibung für öffnenden Gateways, gegeben einer Transformationsbeschreibung und den Daten, könnte ich ungefähr beschreiben was passiert',\n",
    "  False),\n",
    " ('Von den kennengelernten Transformationsbeschreibung für Schließenden Gateways, gegeben einer Transformationsbeschreibung und den Daten, könnte ich ungefähr beschreiben was passiert',\n",
    "  False),\n",
    " ('Flow Priorities erleichtern es nachzuvollziehen wie eine Kombination im schließenden Gateway abläuft',\n",
    "  False),\n",
    " ('Alles in einem würde ich ein Model nach AutomaModela verstehen können, wenn ich es sehe',\n",
    "  False),\n",
    " ('Im generellen Finde ich das AutomaModela Modelle Datentransformationen verständlich ausdrücken',\n",
    "  False),\n",
    " ('Die Komplexität des Beispiels würde ich als _ beschreiben', False),\n",
    " ('Ich fühlte mich in der Lage das Problem in AutomaModela zu lösen', True),\n",
    " ('AutomaModela hatte alle Werkzeuge dich ich brauchte um das Beispiel zu lösen',\n",
    "  True),\n",
    " ('Das Modellieren des Beispiels verlief reibungslos', True),\n",
    " ('Hätte ich die Wahl das Beispiel mit einer anderen (Transformations-)Anwendung (Excel, SQL, etc.) zu lösen, würde ich AutomaModela verwenden',\n",
    "  True),\n",
    " ('Müsste ich die Transformation einer dritten Person erklären müssen, würde ich AutomaModela einer anderen (Transformations-)Anwendung bevorzugen',\n",
    "  True),\n",
    " ('Müsste ich eine  andere Transformation automatisieren müssen, würde ich dafür AutomaModela benutzen',\n",
    "  True)]"
   ]
  },
  {
   "cell_type": "code",
   "execution_count": 46,
   "metadata": {},
   "outputs": [
    {
     "name": "stdout",
     "output_type": "stream",
     "text": [
      "\n",
      "\\begin{figure}[htb!]\n",
      "    \\centering\n",
      "    \\includegraphics{Figures/Chapter9/0}\n",
      "\\caption{Ich habe Expertise im Finance Bereich}\n",
      "\\label{fig:Antwort0}\n",
      "\\end{figure}\n",
      "\n",
      "\n",
      "\\begin{figure}[htb!]\n",
      "    \\centering\n",
      "    \\includegraphics{Figures/Chapter9/1}\n",
      "\\caption{Ich habe Expertise im Computer Science Bereich}\n",
      "\\label{fig:Antwort1}\n",
      "\\end{figure}\n",
      "\n",
      "\n",
      "\\begin{figure}[htb!]\n",
      "    \\centering\n",
      "    \\includegraphics{Figures/Chapter9/2}\n",
      "\\caption{Ich kenne mich mit BPMN aus}\n",
      "\\label{fig:Antwort2}\n",
      "\\end{figure}\n",
      "\n",
      "\n",
      "\\begin{figure}[htb!]\n",
      "    \\centering\n",
      "    \\includegraphics{Figures/Chapter9/3}\n",
      "\\caption{Ich kenne mich mit Excel aus}\n",
      "\\label{fig:Antwort3}\n",
      "\\end{figure}\n",
      "\n",
      "\n",
      "\\begin{figure}[htb!]\n",
      "    \\centering\n",
      "    \\includegraphics{Figures/Chapter9/4}\n",
      "\\caption{Ich kenne mich mit Datenbanken und SQL aus}\n",
      "\\label{fig:Antwort4}\n",
      "\\end{figure}\n",
      "\n",
      "\n",
      "\\begin{figure}[htb!]\n",
      "    \\centering\n",
      "    \\includegraphics{Figures/Chapter9/5}\n",
      "\\caption{Ich kenne mich mit der Relationalen Algebra aus}\n",
      "\\label{fig:Antwort5}\n",
      "\\end{figure}\n",
      "\n",
      "\n",
      "\\begin{figure}[htb!]\n",
      "    \\centering\n",
      "    \\includegraphics{Figures/Chapter9/6}\n",
      "\\caption{Die Vorstellung war verständlich}\n",
      "\\label{fig:Antwort6}\n",
      "\\end{figure}\n",
      "\n",
      "\n",
      "\\begin{figure}[htb!]\n",
      "    \\centering\n",
      "    \\includegraphics{Figures/Chapter9/7}\n",
      "\\caption{Die Konzepte wurden vernünftig erklärt}\n",
      "\\label{fig:Antwort7}\n",
      "\\end{figure}\n",
      "\n",
      "\n",
      "\\begin{figure}[htb!]\n",
      "    \\centering\n",
      "    \\includegraphics{Figures/Chapter9/8}\n",
      "\\caption{Das gewählte Beispiel wurde vernünftig beschrieben}\n",
      "\\label{fig:Antwort8}\n",
      "\\end{figure}\n",
      "\n",
      "\n",
      "\\begin{figure}[htb!]\n",
      "    \\centering\n",
      "    \\includegraphics{Figures/Chapter9/9}\n",
      "\\caption{Ich habe das Konzept von AutomaModela verstanden}\n",
      "\\label{fig:Antwort9}\n",
      "\\end{figure}\n",
      "\n",
      "\n",
      "\\begin{figure}[htb!]\n",
      "    \\centering\n",
      "    \\includegraphics{Figures/Chapter9/10}\n",
      "\\caption{Ich wäre in der Lage den ungefähren Weg, welchen der Token in einem Model nimmt, zu verfolgen}\n",
      "\\label{fig:Antwort10}\n",
      "\\end{figure}\n",
      "\n",
      "\n",
      "\\begin{figure}[htb!]\n",
      "    \\centering\n",
      "    \\includegraphics{Figures/Chapter9/11}\n",
      "\\caption{Die Darstellung von Daten als Token ergibt Sinn}\n",
      "\\label{fig:Antwort11}\n",
      "\\end{figure}\n",
      "\n",
      "\n",
      "\\begin{figure}[htb!]\n",
      "    \\centering\n",
      "    \\includegraphics{Figures/Chapter9/12}\n",
      "\\caption{Die Funktionalität der BPMN Symbole in Bezug auf Daten ergeben Sinn}\n",
      "\\label{fig:Antwort12}\n",
      "\\end{figure}\n",
      "\n",
      "\n",
      "\\begin{figure}[htb!]\n",
      "    \\centering\n",
      "    \\includegraphics{Figures/Chapter9/13}\n",
      "\\caption{Die Transformationsbeschreibungen (Aufgabe, Gateway) ergeben Sinn}\n",
      "\\label{fig:Antwort13}\n",
      "\\end{figure}\n",
      "\n",
      "\n",
      "\\begin{figure}[htb!]\n",
      "    \\centering\n",
      "    \\includegraphics{Figures/Chapter9/14}\n",
      "\\caption{Der Weg wie ich Argumente (eigene Inputs ) in die Transformationsbeschreibungen einfüge ist Intuitive}\n",
      "\\label{fig:Antwort14}\n",
      "\\end{figure}\n",
      "\n",
      "\n",
      "\\begin{figure}[htb!]\n",
      "    \\centering\n",
      "    \\includegraphics{Figures/Chapter9/15}\n",
      "\\caption{Der Weg wie ich Berechnungen(Expression) und Abfragen (Queries) aufschreibe ist Inuitive}\n",
      "\\label{fig:Antwort15}\n",
      "\\end{figure}\n",
      "\n",
      "\n",
      "\\begin{figure}[htb!]\n",
      "    \\centering\n",
      "    \\includegraphics{Figures/Chapter9/16}\n",
      "\\caption{Von den kennengelernten Transformationsbeschreibung für Aufgaben, gegeben einer Transformationsbeschreibung und den Daten, könnte ich ungefähr beschreiben was passiert}\n",
      "\\label{fig:Antwort16}\n",
      "\\end{figure}\n",
      "\n",
      "\n",
      "\\begin{figure}[htb!]\n",
      "    \\centering\n",
      "    \\includegraphics{Figures/Chapter9/17}\n",
      "\\caption{Von den kennengelernten Transformationsbeschreibung für öffnenden Gateways, gegeben einer Transformationsbeschreibung und den Daten, könnte ich ungefähr beschreiben was passiert}\n",
      "\\label{fig:Antwort17}\n",
      "\\end{figure}\n",
      "\n",
      "\n",
      "\\begin{figure}[htb!]\n",
      "    \\centering\n",
      "    \\includegraphics{Figures/Chapter9/18}\n",
      "\\caption{Von den kennengelernten Transformationsbeschreibung für Schließenden Gateways, gegeben einer Transformationsbeschreibung und den Daten, könnte ich ungefähr beschreiben was passiert}\n",
      "\\label{fig:Antwort18}\n",
      "\\end{figure}\n",
      "\n",
      "\n",
      "\\begin{figure}[htb!]\n",
      "    \\centering\n",
      "    \\includegraphics{Figures/Chapter9/19}\n",
      "\\caption{Flow Priorities erleichtern es nachzuvollziehen wie eine Kombination im schließenden Gateway abläuft}\n",
      "\\label{fig:Antwort19}\n",
      "\\end{figure}\n",
      "\n",
      "\n",
      "\\begin{figure}[htb!]\n",
      "    \\centering\n",
      "    \\includegraphics{Figures/Chapter9/20}\n",
      "\\caption{Alles in einem würde ich ein Model nach AutomaModela verstehen können, wenn ich es sehe}\n",
      "\\label{fig:Antwort20}\n",
      "\\end{figure}\n",
      "\n",
      "\n",
      "\\begin{figure}[htb!]\n",
      "    \\centering\n",
      "    \\includegraphics{Figures/Chapter9/21}\n",
      "\\caption{Im generellen Finde ich das AutomaModela Modelle Datentransformationen verständlich ausdrücken}\n",
      "\\label{fig:Antwort21}\n",
      "\\end{figure}\n",
      "\n",
      "\n",
      "\\begin{figure}[htb!]\n",
      "    \\centering\n",
      "    \\includegraphics{Figures/Chapter9/22}\n",
      "\\caption{Die Komplexität des Beispiels würde ich als _ beschreiben}\n",
      "\\label{fig:Antwort22}\n",
      "\\end{figure}\n",
      "\n",
      "\n",
      "\\begin{figure}[htb!]\n",
      "    \\centering\n",
      "    \\includegraphics{Figures/Chapter9/23}\n",
      "\\caption{Ich fühlte mich in der Lage das Problem in AutomaModela zu lösen}\n",
      "\\label{fig:Antwort23}\n",
      "\\end{figure}\n",
      "\n",
      "\n",
      "\\begin{figure}[htb!]\n",
      "    \\centering\n",
      "    \\includegraphics{Figures/Chapter9/24}\n",
      "\\caption{AutomaModela hatte alle Werkzeuge dich ich brauchte um das Beispiel zu lösen}\n",
      "\\label{fig:Antwort24}\n",
      "\\end{figure}\n",
      "\n",
      "\n",
      "\\begin{figure}[htb!]\n",
      "    \\centering\n",
      "    \\includegraphics{Figures/Chapter9/25}\n",
      "\\caption{Das Modellieren des Beispiels verlief reibungslos}\n",
      "\\label{fig:Antwort25}\n",
      "\\end{figure}\n",
      "\n",
      "\n",
      "\\begin{figure}[htb!]\n",
      "    \\centering\n",
      "    \\includegraphics{Figures/Chapter9/26}\n",
      "\\caption{Hätte ich die Wahl das Beispiel mit einer anderen (Transformations-)Anwendung (Excel, SQL, etc.) zu lösen, würde ich AutomaModela verwenden}\n",
      "\\label{fig:Antwort26}\n",
      "\\end{figure}\n",
      "\n",
      "\n",
      "\\begin{figure}[htb!]\n",
      "    \\centering\n",
      "    \\includegraphics{Figures/Chapter9/27}\n",
      "\\caption{Müsste ich die Transformation einer dritten Person erklären müssen, würde ich AutomaModela einer anderen (Transformations-)Anwendung bevorzugen}\n",
      "\\label{fig:Antwort27}\n",
      "\\end{figure}\n",
      "\n",
      "\n",
      "\\begin{figure}[htb!]\n",
      "    \\centering\n",
      "    \\includegraphics{Figures/Chapter9/28}\n",
      "\\caption{Müsste ich eine  andere Transformation automatisieren müssen, würde ich dafür AutomaModela benutzen}\n",
      "\\label{fig:Antwort28}\n",
      "\\end{figure}\n",
      "\n"
     ]
    },
    {
     "data": {
      "image/png": "[encoded data removed]",
      "text/plain": [
       "<Figure size 402.52x248.771 with 1 Axes>"
      ]
     },
     "metadata": {},
     "output_type": "display_data"
    }
   ],
   "source": [
    "for key,l in enumerate(liste):\n",
    "    print(make_plot(df,key, l[0], l[1]))"
   ]
  }
 ],
 "metadata": {
  "interpreter": {
   "hash": "c5bcb43b39f65e0a07e6a5015ea5224a15f34641f7704821fea9034614d822f3"
  },
  "kernelspec": {
   "display_name": "Python 3.10.4 ('x')",
   "language": "python",
   "name": "python3"
  },
  "language_info": {
   "codemirror_mode": {
    "name": "ipython",
    "version": 3
   },
   "file_extension": ".py",
   "mimetype": "text/x-python",
   "name": "python",
   "nbconvert_exporter": "python",
   "pygments_lexer": "ipython3",
   "version": "3.10.4"
  },
  "orig_nbformat": 4
 },
 "nbformat": 4,
 "nbformat_minor": 2
}
